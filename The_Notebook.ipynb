{
  "nbformat": 4,
  "nbformat_minor": 0,
  "metadata": {
    "colab": {
      "name": "The_Notebook.ipynb",
      "provenance": [],
      "collapsed_sections": [
        "IM38rn9ChWRu"
      ],
      "toc_visible": true
    },
    "kernelspec": {
      "name": "python3",
      "display_name": "Python 3"
    }
  },
  "cells": [
    {
      "cell_type": "markdown",
      "metadata": {
        "id": "IM38rn9ChWRu",
        "colab_type": "text"
      },
      "source": [
        "# Importing the Libraries"
      ]
    },
    {
      "cell_type": "code",
      "metadata": {
        "id": "qV672Z5pmelT",
        "colab_type": "code",
        "colab": {}
      },
      "source": [
        "import panda as pd\n",
        "import numpy as np"
      ],
      "execution_count": null,
      "outputs": []
    },
    {
      "cell_type": "markdown",
      "metadata": {
        "id": "-R_1GyrKm3w8",
        "colab_type": "text"
      },
      "source": [
        "# Loading our Dataset"
      ]
    },
    {
      "cell_type": "code",
      "metadata": {
        "id": "tRb0yVGpnDq4",
        "colab_type": "code",
        "colab": {}
      },
      "source": [
        ""
      ],
      "execution_count": null,
      "outputs": []
    }
  ]
}