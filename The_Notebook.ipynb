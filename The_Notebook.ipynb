{
  "nbformat": 4,
  "nbformat_minor": 0,
  "metadata": {
    "colab": {
      "name": "The_Notebook.ipynb",
      "provenance": [],
      "collapsed_sections": [
        "IM38rn9ChWRu"
      ],
      "toc_visible": true,
      "include_colab_link": true
    },
    "kernelspec": {
      "display_name": "Python 3",
      "language": "python",
      "name": "python3"
    },
    "language_info": {
      "codemirror_mode": {
        "name": "ipython",
        "version": 3
      },
      "file_extension": ".py",
      "mimetype": "text/x-python",
      "name": "python",
      "nbconvert_exporter": "python",
      "pygments_lexer": "ipython3",
      "version": "3.8.2"
    }
  },
  "cells": [
    {
      "cell_type": "markdown",
      "metadata": {
        "id": "view-in-github",
        "colab_type": "text"
      },
      "source": [
        "<a href=\"https://colab.research.google.com/github/JeromeMberia/IP_Week_3/blob/master/The_Notebook.ipynb\" target=\"_parent\"><img src=\"https://colab.research.google.com/assets/colab-badge.svg\" alt=\"Open In Colab\"/></a>"
      ]
    },
    {
      "cell_type": "markdown",
      "metadata": {
        "colab_type": "text",
        "id": "IM38rn9ChWRu"
      },
      "source": [
        "# Importing the Libraries"
      ]
    },
    {
      "cell_type": "code",
      "metadata": {
        "colab_type": "code",
        "id": "qV672Z5pmelT",
        "colab": {}
      },
      "source": [
        "import pandas as pd\n",
        "import numpy as np"
      ],
      "execution_count": 444,
      "outputs": []
    },
    {
      "cell_type": "markdown",
      "metadata": {
        "colab_type": "text",
        "id": "-R_1GyrKm3w8"
      },
      "source": [
        "# Loading our Dataset"
      ]
    },
    {
      "cell_type": "code",
      "metadata": {
        "colab_type": "code",
        "id": "tRb0yVGpnDq4",
        "colab": {}
      },
      "source": [
        "geo = None\n",
        "tel_1 = None\n",
        "tel_2 = None\n",
        "tel_3 = None\n",
        "geo = pd.read_csv('cells_geo.csv', delimiter=';')\n",
        "tel_1 = pd.read_csv('Telcom_dataset1.csv')\n",
        "tel_2 = pd.read_csv('Telcom_dataset2.csv')\n",
        "tel_3 = pd.read_csv('Telcom_dataset3.csv')\n"
      ],
      "execution_count": 445,
      "outputs": []
    },
    {
      "cell_type": "code",
      "metadata": {
        "id": "jQasDwVDZgkB",
        "colab_type": "code",
        "colab": {
          "base_uri": "https://localhost:8080/",
          "height": 0
        },
        "outputId": "60aa310a-ab9e-42db-c8fa-cfdbd8d617da"
      },
      "source": [
        "geo.head()\n"
      ],
      "execution_count": 446,
      "outputs": [
        {
          "output_type": "execute_result",
          "data": {
            "text/html": [
              "<div>\n",
              "<style scoped>\n",
              "    .dataframe tbody tr th:only-of-type {\n",
              "        vertical-align: middle;\n",
              "    }\n",
              "\n",
              "    .dataframe tbody tr th {\n",
              "        vertical-align: top;\n",
              "    }\n",
              "\n",
              "    .dataframe thead th {\n",
              "        text-align: right;\n",
              "    }\n",
              "</style>\n",
              "<table border=\"1\" class=\"dataframe\">\n",
              "  <thead>\n",
              "    <tr style=\"text-align: right;\">\n",
              "      <th></th>\n",
              "      <th>Unnamed: 0</th>\n",
              "      <th>VILLES</th>\n",
              "      <th>STATUS</th>\n",
              "      <th>LOCALISATION</th>\n",
              "      <th>DECOUPZONE</th>\n",
              "      <th>ZONENAME</th>\n",
              "      <th>LONGITUDE</th>\n",
              "      <th>LATITUDE</th>\n",
              "      <th>REGION</th>\n",
              "      <th>AREA</th>\n",
              "      <th>CELL_ID</th>\n",
              "      <th>SITE_CODE</th>\n",
              "    </tr>\n",
              "  </thead>\n",
              "  <tbody>\n",
              "    <tr>\n",
              "      <th>0</th>\n",
              "      <td>0</td>\n",
              "      <td>ADJAME</td>\n",
              "      <td>In Service</td>\n",
              "      <td>ABIDJAN</td>\n",
              "      <td>\"Abidjan_EST</td>\n",
              "      <td>AGBANNEW</td>\n",
              "      <td>-4.000667</td>\n",
              "      <td>5.368194</td>\n",
              "      <td>LAGUNE</td>\n",
              "      <td>NaN</td>\n",
              "      <td>fbb2e75af3</td>\n",
              "      <td>0bb492ef17</td>\n",
              "    </tr>\n",
              "    <tr>\n",
              "      <th>1</th>\n",
              "      <td>1</td>\n",
              "      <td>ADJAME</td>\n",
              "      <td>In Service</td>\n",
              "      <td>ABIDJAN</td>\n",
              "      <td>\"Abidjan_EST</td>\n",
              "      <td>AGBANNEW</td>\n",
              "      <td>-4.000667</td>\n",
              "      <td>5.368194</td>\n",
              "      <td>LAGUNE</td>\n",
              "      <td>NaN</td>\n",
              "      <td>1502501d78</td>\n",
              "      <td>0bb492ef17</td>\n",
              "    </tr>\n",
              "    <tr>\n",
              "      <th>2</th>\n",
              "      <td>2</td>\n",
              "      <td>ADJAME</td>\n",
              "      <td>In Service</td>\n",
              "      <td>ABIDJAN</td>\n",
              "      <td>\"Abidjan_EST</td>\n",
              "      <td>AGBANNEW</td>\n",
              "      <td>-4.000667</td>\n",
              "      <td>5.368194</td>\n",
              "      <td>LAGUNE</td>\n",
              "      <td>NaN</td>\n",
              "      <td>0c2e182a0c</td>\n",
              "      <td>0bb492ef17</td>\n",
              "    </tr>\n",
              "    <tr>\n",
              "      <th>3</th>\n",
              "      <td>3</td>\n",
              "      <td>ASSINIE</td>\n",
              "      <td>In Service</td>\n",
              "      <td>INTERIEUR</td>\n",
              "      <td>Grand-EST</td>\n",
              "      <td>ASSINIE\"</td>\n",
              "      <td>-3.488467</td>\n",
              "      <td>5.158761</td>\n",
              "      <td>SUD COMOE</td>\n",
              "      <td>NaN</td>\n",
              "      <td>69bdfc69fd</td>\n",
              "      <td>8a1e6ce31f</td>\n",
              "    </tr>\n",
              "    <tr>\n",
              "      <th>4</th>\n",
              "      <td>4</td>\n",
              "      <td>ASSINIE</td>\n",
              "      <td>In Service</td>\n",
              "      <td>INTERIEUR</td>\n",
              "      <td>Grand-EST</td>\n",
              "      <td>ASSINIE\"</td>\n",
              "      <td>-3.488467</td>\n",
              "      <td>5.158761</td>\n",
              "      <td>SUD COMOE</td>\n",
              "      <td>NaN</td>\n",
              "      <td>7a1029d2ab</td>\n",
              "      <td>8a1e6ce31f</td>\n",
              "    </tr>\n",
              "  </tbody>\n",
              "</table>\n",
              "</div>"
            ],
            "text/plain": [
              "   Unnamed: 0   VILLES      STATUS  ... AREA     CELL_ID   SITE_CODE\n",
              "0           0   ADJAME  In Service  ...  NaN  fbb2e75af3  0bb492ef17\n",
              "1           1   ADJAME  In Service  ...  NaN  1502501d78  0bb492ef17\n",
              "2           2   ADJAME  In Service  ...  NaN  0c2e182a0c  0bb492ef17\n",
              "3           3  ASSINIE  In Service  ...  NaN  69bdfc69fd  8a1e6ce31f\n",
              "4           4  ASSINIE  In Service  ...  NaN  7a1029d2ab  8a1e6ce31f\n",
              "\n",
              "[5 rows x 12 columns]"
            ]
          },
          "metadata": {
            "tags": []
          },
          "execution_count": 446
        }
      ]
    },
    {
      "cell_type": "code",
      "metadata": {
        "id": "gFUvIdEJGMoj",
        "colab_type": "code",
        "colab": {
          "base_uri": "https://localhost:8080/",
          "height": 0
        },
        "outputId": "e43c6d11-f084-4beb-c569-6ee833dddf3d"
      },
      "source": [
        "tel_1.head()\n"
      ],
      "execution_count": 447,
      "outputs": [
        {
          "output_type": "execute_result",
          "data": {
            "text/html": [
              "<div>\n",
              "<style scoped>\n",
              "    .dataframe tbody tr th:only-of-type {\n",
              "        vertical-align: middle;\n",
              "    }\n",
              "\n",
              "    .dataframe tbody tr th {\n",
              "        vertical-align: top;\n",
              "    }\n",
              "\n",
              "    .dataframe thead th {\n",
              "        text-align: right;\n",
              "    }\n",
              "</style>\n",
              "<table border=\"1\" class=\"dataframe\">\n",
              "  <thead>\n",
              "    <tr style=\"text-align: right;\">\n",
              "      <th></th>\n",
              "      <th>PRODUTC</th>\n",
              "      <th>VALUE</th>\n",
              "      <th>DATETIME</th>\n",
              "      <th>CELL_ON_SITE</th>\n",
              "      <th>DW_A_NUMBER_INT</th>\n",
              "      <th>DW_B_NUMBER_INT</th>\n",
              "      <th>COUNTRY_A</th>\n",
              "      <th>COUNTRY_B</th>\n",
              "      <th>CELL_ID</th>\n",
              "      <th>SITE_ID</th>\n",
              "    </tr>\n",
              "  </thead>\n",
              "  <tbody>\n",
              "    <tr>\n",
              "      <th>0</th>\n",
              "      <td>Voice</td>\n",
              "      <td>0</td>\n",
              "      <td>2012-05-06 23:04:37.0</td>\n",
              "      <td>1</td>\n",
              "      <td>49fae048b547780</td>\n",
              "      <td>1a49f8b0ded9de6</td>\n",
              "      <td>19e2e</td>\n",
              "      <td>19e2e</td>\n",
              "      <td>/TJNe+Mmtu</td>\n",
              "      <td>/TJNe+Mmtu</td>\n",
              "    </tr>\n",
              "    <tr>\n",
              "      <th>1</th>\n",
              "      <td>sms</td>\n",
              "      <td>0</td>\n",
              "      <td>2012-05-06 23:05:25.0</td>\n",
              "      <td>0</td>\n",
              "      <td>7a54a6eaee19e65</td>\n",
              "      <td>93343ba6e41af95</td>\n",
              "      <td>19e2e</td>\n",
              "      <td>19e2e</td>\n",
              "      <td>/+cKZKIp41</td>\n",
              "      <td>/+cKZKIp41</td>\n",
              "    </tr>\n",
              "    <tr>\n",
              "      <th>2</th>\n",
              "      <td>sms</td>\n",
              "      <td>25</td>\n",
              "      <td>2012-05-06 23:05:41.0</td>\n",
              "      <td>0</td>\n",
              "      <td>6008887b0207d82</td>\n",
              "      <td>7aacc9709ce0a20</td>\n",
              "      <td>19e2e</td>\n",
              "      <td>19e2e</td>\n",
              "      <td>/u0FSD+ahi</td>\n",
              "      <td>/u0FSD+ahi</td>\n",
              "    </tr>\n",
              "    <tr>\n",
              "      <th>3</th>\n",
              "      <td>Voice</td>\n",
              "      <td>56</td>\n",
              "      <td>2012-05-06 23:05:42.0</td>\n",
              "      <td>1</td>\n",
              "      <td>7370032e20f4e96</td>\n",
              "      <td>6af4a60e74c91d3</td>\n",
              "      <td>19e2e</td>\n",
              "      <td>19e2e</td>\n",
              "      <td>+cNeJzsTp3</td>\n",
              "      <td>+cNeJzsTp3</td>\n",
              "    </tr>\n",
              "    <tr>\n",
              "      <th>4</th>\n",
              "      <td>Voice</td>\n",
              "      <td>14</td>\n",
              "      <td>2012-05-06 23:06:29.0</td>\n",
              "      <td>1</td>\n",
              "      <td>966ba4656e38e62</td>\n",
              "      <td>02aa736ee555d5c</td>\n",
              "      <td>19e2e</td>\n",
              "      <td>19e2e</td>\n",
              "      <td>051KhYDCpv</td>\n",
              "      <td>051KhYDCpv</td>\n",
              "    </tr>\n",
              "  </tbody>\n",
              "</table>\n",
              "</div>"
            ],
            "text/plain": [
              "  PRODUTC  VALUE               DATETIME  ... COUNTRY_B     CELL_ID     SITE_ID\n",
              "0   Voice      0  2012-05-06 23:04:37.0  ...     19e2e  /TJNe+Mmtu  /TJNe+Mmtu\n",
              "1     sms      0  2012-05-06 23:05:25.0  ...     19e2e  /+cKZKIp41  /+cKZKIp41\n",
              "2     sms     25  2012-05-06 23:05:41.0  ...     19e2e  /u0FSD+ahi  /u0FSD+ahi\n",
              "3   Voice     56  2012-05-06 23:05:42.0  ...     19e2e  +cNeJzsTp3  +cNeJzsTp3\n",
              "4   Voice     14  2012-05-06 23:06:29.0  ...     19e2e  051KhYDCpv  051KhYDCpv\n",
              "\n",
              "[5 rows x 10 columns]"
            ]
          },
          "metadata": {
            "tags": []
          },
          "execution_count": 447
        }
      ]
    },
    {
      "cell_type": "code",
      "metadata": {
        "id": "02LvdWsoGMEY",
        "colab_type": "code",
        "colab": {
          "base_uri": "https://localhost:8080/",
          "height": 0
        },
        "outputId": "2a82767c-5bd9-4cd7-87c8-70ac49dec41b"
      },
      "source": [
        "tel_2.head()\n"
      ],
      "execution_count": 448,
      "outputs": [
        {
          "output_type": "execute_result",
          "data": {
            "text/html": [
              "<div>\n",
              "<style scoped>\n",
              "    .dataframe tbody tr th:only-of-type {\n",
              "        vertical-align: middle;\n",
              "    }\n",
              "\n",
              "    .dataframe tbody tr th {\n",
              "        vertical-align: top;\n",
              "    }\n",
              "\n",
              "    .dataframe thead th {\n",
              "        text-align: right;\n",
              "    }\n",
              "</style>\n",
              "<table border=\"1\" class=\"dataframe\">\n",
              "  <thead>\n",
              "    <tr style=\"text-align: right;\">\n",
              "      <th></th>\n",
              "      <th>PRODUCT</th>\n",
              "      <th>VALUE</th>\n",
              "      <th>DATE_TIME</th>\n",
              "      <th>CELL_ON_SITE</th>\n",
              "      <th>DW_A_NUMBER</th>\n",
              "      <th>DW_B_NUMBER</th>\n",
              "      <th>COUNTRY_A</th>\n",
              "      <th>COUNTRY_B</th>\n",
              "      <th>CELL_ID</th>\n",
              "      <th>SITE_ID</th>\n",
              "    </tr>\n",
              "  </thead>\n",
              "  <tbody>\n",
              "    <tr>\n",
              "      <th>0</th>\n",
              "      <td>sms</td>\n",
              "      <td>0</td>\n",
              "      <td>2012-05-07 23:02:06.0</td>\n",
              "      <td>2</td>\n",
              "      <td>32255675c3b6fe3</td>\n",
              "      <td>1aa7ae01386e9fb</td>\n",
              "      <td>19e2e</td>\n",
              "      <td>19e2e</td>\n",
              "      <td>+854AcBQT2</td>\n",
              "      <td>+854AcBQT2</td>\n",
              "    </tr>\n",
              "    <tr>\n",
              "      <th>1</th>\n",
              "      <td>Voice</td>\n",
              "      <td>0</td>\n",
              "      <td>2012-05-07 23:03:44.0</td>\n",
              "      <td>1</td>\n",
              "      <td>ff16d6ac74c1c64</td>\n",
              "      <td>87d87309c15a8c9</td>\n",
              "      <td>19e2e</td>\n",
              "      <td>19e2e</td>\n",
              "      <td>+854AcBQT2</td>\n",
              "      <td>+854AcBQT2</td>\n",
              "    </tr>\n",
              "    <tr>\n",
              "      <th>2</th>\n",
              "      <td>sms</td>\n",
              "      <td>0</td>\n",
              "      <td>2012-05-07 23:04:06.0</td>\n",
              "      <td>0</td>\n",
              "      <td>98d9f2fb5ff624b</td>\n",
              "      <td>93343ba6e41af95</td>\n",
              "      <td>19e2e</td>\n",
              "      <td>19e2e</td>\n",
              "      <td>+laSrk7g6q</td>\n",
              "      <td>+laSrk7g6q</td>\n",
              "    </tr>\n",
              "    <tr>\n",
              "      <th>3</th>\n",
              "      <td>Voice</td>\n",
              "      <td>37</td>\n",
              "      <td>2012-05-07 23:04:48.0</td>\n",
              "      <td>1</td>\n",
              "      <td>3f9c8a33ec7be1f</td>\n",
              "      <td>7d05a38f89c49d8</td>\n",
              "      <td>19e2e</td>\n",
              "      <td>19e2e</td>\n",
              "      <td>/xvRrCVKoQ</td>\n",
              "      <td>/xvRrCVKoQ</td>\n",
              "    </tr>\n",
              "    <tr>\n",
              "      <th>4</th>\n",
              "      <td>sms</td>\n",
              "      <td>25</td>\n",
              "      <td>2012-05-07 23:04:58.0</td>\n",
              "      <td>1</td>\n",
              "      <td>7bcccc03adf3864</td>\n",
              "      <td>56a5d5430d2fa86</td>\n",
              "      <td>19e2e</td>\n",
              "      <td>19e2e</td>\n",
              "      <td>+bO+qkSonO</td>\n",
              "      <td>+bO+qkSonO</td>\n",
              "    </tr>\n",
              "  </tbody>\n",
              "</table>\n",
              "</div>"
            ],
            "text/plain": [
              "  PRODUCT  VALUE              DATE_TIME  ... COUNTRY_B     CELL_ID     SITE_ID\n",
              "0     sms      0  2012-05-07 23:02:06.0  ...     19e2e  +854AcBQT2  +854AcBQT2\n",
              "1   Voice      0  2012-05-07 23:03:44.0  ...     19e2e  +854AcBQT2  +854AcBQT2\n",
              "2     sms      0  2012-05-07 23:04:06.0  ...     19e2e  +laSrk7g6q  +laSrk7g6q\n",
              "3   Voice     37  2012-05-07 23:04:48.0  ...     19e2e  /xvRrCVKoQ  /xvRrCVKoQ\n",
              "4     sms     25  2012-05-07 23:04:58.0  ...     19e2e  +bO+qkSonO  +bO+qkSonO\n",
              "\n",
              "[5 rows x 10 columns]"
            ]
          },
          "metadata": {
            "tags": []
          },
          "execution_count": 448
        }
      ]
    },
    {
      "cell_type": "code",
      "metadata": {
        "id": "wriYbthWGOSV",
        "colab_type": "code",
        "colab": {
          "base_uri": "https://localhost:8080/",
          "height": 0
        },
        "outputId": "fb84cf92-d138-4eff-fc7d-2140b4cf7c04"
      },
      "source": [
        "tel_3.head()"
      ],
      "execution_count": 449,
      "outputs": [
        {
          "output_type": "execute_result",
          "data": {
            "text/html": [
              "<div>\n",
              "<style scoped>\n",
              "    .dataframe tbody tr th:only-of-type {\n",
              "        vertical-align: middle;\n",
              "    }\n",
              "\n",
              "    .dataframe tbody tr th {\n",
              "        vertical-align: top;\n",
              "    }\n",
              "\n",
              "    .dataframe thead th {\n",
              "        text-align: right;\n",
              "    }\n",
              "</style>\n",
              "<table border=\"1\" class=\"dataframe\">\n",
              "  <thead>\n",
              "    <tr style=\"text-align: right;\">\n",
              "      <th></th>\n",
              "      <th>PRODUCT</th>\n",
              "      <th>VALUE</th>\n",
              "      <th>DATE_TIME</th>\n",
              "      <th>CELL_ON_SITE</th>\n",
              "      <th>DW_A_NUMBER_INT</th>\n",
              "      <th>DW_B_NUMBER_INT</th>\n",
              "      <th>COUNTRY_A</th>\n",
              "      <th>COUNTRY_B</th>\n",
              "      <th>CELLID</th>\n",
              "      <th>SIET_ID</th>\n",
              "    </tr>\n",
              "  </thead>\n",
              "  <tbody>\n",
              "    <tr>\n",
              "      <th>0</th>\n",
              "      <td>Voice</td>\n",
              "      <td>61</td>\n",
              "      <td>2012-05-08 23:01:28.0</td>\n",
              "      <td>2</td>\n",
              "      <td>966f68353622feb</td>\n",
              "      <td>ffd53a3bb2db6f1</td>\n",
              "      <td>19e2e</td>\n",
              "      <td>19e2e</td>\n",
              "      <td>+38u2u/rfx</td>\n",
              "      <td>+38u2u/rfx</td>\n",
              "    </tr>\n",
              "    <tr>\n",
              "      <th>1</th>\n",
              "      <td>sms</td>\n",
              "      <td>0</td>\n",
              "      <td>2012-05-08 23:01:31.0</td>\n",
              "      <td>1</td>\n",
              "      <td>a0a597384c612d7</td>\n",
              "      <td>cf3b218f1dde792</td>\n",
              "      <td>19e2e</td>\n",
              "      <td>19e2e</td>\n",
              "      <td>+Fs4mTvdKx</td>\n",
              "      <td>+Fs4mTvdKx</td>\n",
              "    </tr>\n",
              "    <tr>\n",
              "      <th>2</th>\n",
              "      <td>Voice</td>\n",
              "      <td>10</td>\n",
              "      <td>2012-05-08 23:02:59.0</td>\n",
              "      <td>1</td>\n",
              "      <td>5441a9a58c97132</td>\n",
              "      <td>52f8b299515b9b7</td>\n",
              "      <td>19e2e</td>\n",
              "      <td>19e2e</td>\n",
              "      <td>+ZaaZozy/+</td>\n",
              "      <td>+ZaaZozy/+</td>\n",
              "    </tr>\n",
              "    <tr>\n",
              "      <th>3</th>\n",
              "      <td>sms</td>\n",
              "      <td>0</td>\n",
              "      <td>2012-05-08 23:03:04.0</td>\n",
              "      <td>0</td>\n",
              "      <td>8ab8b9ed6989f61</td>\n",
              "      <td>e09e736e46c5c3d</td>\n",
              "      <td>19e2e</td>\n",
              "      <td>19e2e</td>\n",
              "      <td>+cNeJzsTp3</td>\n",
              "      <td>+cNeJzsTp3</td>\n",
              "    </tr>\n",
              "    <tr>\n",
              "      <th>4</th>\n",
              "      <td>Voice</td>\n",
              "      <td>22</td>\n",
              "      <td>2012-05-08 23:03:16.0</td>\n",
              "      <td>4</td>\n",
              "      <td>52662a62b199334</td>\n",
              "      <td>2186273faab4602</td>\n",
              "      <td>19e2e</td>\n",
              "      <td>19e2e</td>\n",
              "      <td>/eeMklgyJA</td>\n",
              "      <td>/eeMklgyJA</td>\n",
              "    </tr>\n",
              "  </tbody>\n",
              "</table>\n",
              "</div>"
            ],
            "text/plain": [
              "  PRODUCT  VALUE              DATE_TIME  ... COUNTRY_B      CELLID     SIET_ID\n",
              "0   Voice     61  2012-05-08 23:01:28.0  ...     19e2e  +38u2u/rfx  +38u2u/rfx\n",
              "1     sms      0  2012-05-08 23:01:31.0  ...     19e2e  +Fs4mTvdKx  +Fs4mTvdKx\n",
              "2   Voice     10  2012-05-08 23:02:59.0  ...     19e2e  +ZaaZozy/+  +ZaaZozy/+\n",
              "3     sms      0  2012-05-08 23:03:04.0  ...     19e2e  +cNeJzsTp3  +cNeJzsTp3\n",
              "4   Voice     22  2012-05-08 23:03:16.0  ...     19e2e  /eeMklgyJA  /eeMklgyJA\n",
              "\n",
              "[5 rows x 10 columns]"
            ]
          },
          "metadata": {
            "tags": []
          },
          "execution_count": 449
        }
      ]
    },
    {
      "cell_type": "markdown",
      "metadata": {
        "id": "lsiVB2QZ7De1",
        "colab_type": "text"
      },
      "source": [
        "# Data Understanding"
      ]
    },
    {
      "cell_type": "code",
      "metadata": {
        "id": "nI9Qo2OyAyzU",
        "colab_type": "code",
        "colab": {
          "base_uri": "https://localhost:8080/",
          "height": 0
        },
        "outputId": "73393e16-1e36-41b2-f5a6-b060d0fa7c97"
      },
      "source": [
        "tel_1.shape"
      ],
      "execution_count": 450,
      "outputs": [
        {
          "output_type": "execute_result",
          "data": {
            "text/plain": [
              "(5001, 10)"
            ]
          },
          "metadata": {
            "tags": []
          },
          "execution_count": 450
        }
      ]
    },
    {
      "cell_type": "code",
      "metadata": {
        "id": "U9QBgZEZ7vBR",
        "colab_type": "code",
        "colab": {
          "base_uri": "https://localhost:8080/",
          "height": 0
        },
        "outputId": "486bde01-6506-45a7-e044-3fdda1cd41c9"
      },
      "source": [
        "tel_2.shape"
      ],
      "execution_count": 451,
      "outputs": [
        {
          "output_type": "execute_result",
          "data": {
            "text/plain": [
              "(5001, 10)"
            ]
          },
          "metadata": {
            "tags": []
          },
          "execution_count": 451
        }
      ]
    },
    {
      "cell_type": "code",
      "metadata": {
        "id": "caMjMi3I7zz2",
        "colab_type": "code",
        "colab": {
          "base_uri": "https://localhost:8080/",
          "height": 0
        },
        "outputId": "f5920f82-15de-4080-b573-38edeaa61344"
      },
      "source": [
        "tel_3.shape"
      ],
      "execution_count": 452,
      "outputs": [
        {
          "output_type": "execute_result",
          "data": {
            "text/plain": [
              "(5001, 10)"
            ]
          },
          "metadata": {
            "tags": []
          },
          "execution_count": 452
        }
      ]
    },
    {
      "cell_type": "code",
      "metadata": {
        "id": "uteG-b3M75Hs",
        "colab_type": "code",
        "colab": {
          "base_uri": "https://localhost:8080/",
          "height": 0
        },
        "outputId": "07ebea34-295f-4884-d947-a611014a2638"
      },
      "source": [
        "geo.shape"
      ],
      "execution_count": 453,
      "outputs": [
        {
          "output_type": "execute_result",
          "data": {
            "text/plain": [
              "(3974, 12)"
            ]
          },
          "metadata": {
            "tags": []
          },
          "execution_count": 453
        }
      ]
    },
    {
      "cell_type": "code",
      "metadata": {
        "id": "9lMhey8hB55q",
        "colab_type": "code",
        "colab": {
          "base_uri": "https://localhost:8080/",
          "height": 0
        },
        "outputId": "779d726a-52c2-4bfe-8da4-c052cbb645d8"
      },
      "source": [
        "tel_1.info()"
      ],
      "execution_count": 454,
      "outputs": [
        {
          "output_type": "stream",
          "text": [
            "<class 'pandas.core.frame.DataFrame'>\n",
            "RangeIndex: 5001 entries, 0 to 5000\n",
            "Data columns (total 10 columns):\n",
            " #   Column           Non-Null Count  Dtype \n",
            "---  ------           --------------  ----- \n",
            " 0   PRODUTC          5001 non-null   object\n",
            " 1   VALUE            5001 non-null   int64 \n",
            " 2   DATETIME         5001 non-null   object\n",
            " 3   CELL_ON_SITE     5001 non-null   object\n",
            " 4   DW_A_NUMBER_INT  5001 non-null   object\n",
            " 5   DW_B_NUMBER_INT  5001 non-null   object\n",
            " 6   COUNTRY_A        5001 non-null   object\n",
            " 7   COUNTRY_B        5001 non-null   object\n",
            " 8   CELL_ID          5001 non-null   object\n",
            " 9   SITE_ID          4285 non-null   object\n",
            "dtypes: int64(1), object(9)\n",
            "memory usage: 390.8+ KB\n"
          ],
          "name": "stdout"
        }
      ]
    },
    {
      "cell_type": "code",
      "metadata": {
        "id": "7TaUFpTv8BTa",
        "colab_type": "code",
        "colab": {
          "base_uri": "https://localhost:8080/",
          "height": 0
        },
        "outputId": "eeebb0e9-1ad0-43e9-92a6-c6e07df85bf6"
      },
      "source": [
        "tel_2.info()"
      ],
      "execution_count": 455,
      "outputs": [
        {
          "output_type": "stream",
          "text": [
            "<class 'pandas.core.frame.DataFrame'>\n",
            "RangeIndex: 5001 entries, 0 to 5000\n",
            "Data columns (total 10 columns):\n",
            " #   Column        Non-Null Count  Dtype \n",
            "---  ------        --------------  ----- \n",
            " 0   PRODUCT       5001 non-null   object\n",
            " 1   VALUE         5001 non-null   int64 \n",
            " 2   DATE_TIME     5001 non-null   object\n",
            " 3   CELL_ON_SITE  5001 non-null   object\n",
            " 4   DW_A_NUMBER   5001 non-null   object\n",
            " 5   DW_B_NUMBER   5001 non-null   object\n",
            " 6   COUNTRY_A     5001 non-null   object\n",
            " 7   COUNTRY_B     5001 non-null   object\n",
            " 8   CELL_ID       5001 non-null   object\n",
            " 9   SITE_ID       4325 non-null   object\n",
            "dtypes: int64(1), object(9)\n",
            "memory usage: 390.8+ KB\n"
          ],
          "name": "stdout"
        }
      ]
    },
    {
      "cell_type": "code",
      "metadata": {
        "id": "m58lB_TV8X6C",
        "colab_type": "code",
        "colab": {
          "base_uri": "https://localhost:8080/",
          "height": 0
        },
        "outputId": "ee017e2e-3d61-4851-b454-c99b510c12e4"
      },
      "source": [
        "tel_3.info()"
      ],
      "execution_count": 456,
      "outputs": [
        {
          "output_type": "stream",
          "text": [
            "<class 'pandas.core.frame.DataFrame'>\n",
            "RangeIndex: 5001 entries, 0 to 5000\n",
            "Data columns (total 10 columns):\n",
            " #   Column           Non-Null Count  Dtype \n",
            "---  ------           --------------  ----- \n",
            " 0   PRODUCT          5001 non-null   object\n",
            " 1   VALUE            5001 non-null   int64 \n",
            " 2   DATE_TIME        5001 non-null   object\n",
            " 3   CELL_ON_SITE     5001 non-null   object\n",
            " 4   DW_A_NUMBER_INT  5001 non-null   object\n",
            " 5   DW_B_NUMBER_INT  5001 non-null   object\n",
            " 6   COUNTRY_A        5001 non-null   object\n",
            " 7   COUNTRY_B        5001 non-null   object\n",
            " 8   CELLID           5001 non-null   object\n",
            " 9   SIET_ID          4396 non-null   object\n",
            "dtypes: int64(1), object(9)\n",
            "memory usage: 390.8+ KB\n"
          ],
          "name": "stdout"
        }
      ]
    },
    {
      "cell_type": "code",
      "metadata": {
        "id": "-YW5JUGs8hWO",
        "colab_type": "code",
        "colab": {
          "base_uri": "https://localhost:8080/",
          "height": 0
        },
        "outputId": "67daae0a-12a8-49d7-fb74-11a04180e07a"
      },
      "source": [
        "geo.info()"
      ],
      "execution_count": 457,
      "outputs": [
        {
          "output_type": "stream",
          "text": [
            "<class 'pandas.core.frame.DataFrame'>\n",
            "RangeIndex: 3974 entries, 0 to 3973\n",
            "Data columns (total 12 columns):\n",
            " #   Column        Non-Null Count  Dtype  \n",
            "---  ------        --------------  -----  \n",
            " 0   Unnamed: 0    3974 non-null   int64  \n",
            " 1   VILLES        3974 non-null   object \n",
            " 2   STATUS        3907 non-null   object \n",
            " 3   LOCALISATION  3974 non-null   object \n",
            " 4   DECOUPZONE    3974 non-null   object \n",
            " 5   ZONENAME      3968 non-null   object \n",
            " 6   LONGITUDE     3974 non-null   float64\n",
            " 7   LATITUDE      3974 non-null   float64\n",
            " 8   REGION        3974 non-null   object \n",
            " 9   AREA          3951 non-null   object \n",
            " 10  CELL_ID       3974 non-null   object \n",
            " 11  SITE_CODE     3974 non-null   object \n",
            "dtypes: float64(2), int64(1), object(9)\n",
            "memory usage: 372.7+ KB\n"
          ],
          "name": "stdout"
        }
      ]
    },
    {
      "cell_type": "code",
      "metadata": {
        "id": "_mtdXVF4-ZxU",
        "colab_type": "code",
        "colab": {
          "base_uri": "https://localhost:8080/",
          "height": 0
        },
        "outputId": "0a62d2d8-4aec-4de3-b6eb-63046a9149d4"
      },
      "source": [
        "tel_1.isnull().sum() "
      ],
      "execution_count": 458,
      "outputs": [
        {
          "output_type": "execute_result",
          "data": {
            "text/plain": [
              "PRODUTC              0\n",
              "VALUE                0\n",
              "DATETIME             0\n",
              "CELL_ON_SITE         0\n",
              "DW_A_NUMBER_INT      0\n",
              "DW_B_NUMBER_INT      0\n",
              "COUNTRY_A            0\n",
              "COUNTRY_B            0\n",
              "CELL_ID              0\n",
              "SITE_ID            716\n",
              "dtype: int64"
            ]
          },
          "metadata": {
            "tags": []
          },
          "execution_count": 458
        }
      ]
    },
    {
      "cell_type": "code",
      "metadata": {
        "id": "s8Sj-Zn--olc",
        "colab_type": "code",
        "colab": {
          "base_uri": "https://localhost:8080/",
          "height": 0
        },
        "outputId": "a97cf81c-a008-40bf-84bd-7269750e2f08"
      },
      "source": [
        "tel_2.isnull().sum() \n"
      ],
      "execution_count": 459,
      "outputs": [
        {
          "output_type": "execute_result",
          "data": {
            "text/plain": [
              "PRODUCT           0\n",
              "VALUE             0\n",
              "DATE_TIME         0\n",
              "CELL_ON_SITE      0\n",
              "DW_A_NUMBER       0\n",
              "DW_B_NUMBER       0\n",
              "COUNTRY_A         0\n",
              "COUNTRY_B         0\n",
              "CELL_ID           0\n",
              "SITE_ID         676\n",
              "dtype: int64"
            ]
          },
          "metadata": {
            "tags": []
          },
          "execution_count": 459
        }
      ]
    },
    {
      "cell_type": "code",
      "metadata": {
        "id": "6DSWqEuQ-sMR",
        "colab_type": "code",
        "colab": {
          "base_uri": "https://localhost:8080/",
          "height": 0
        },
        "outputId": "7bf56f8f-6934-4be2-f78f-a1d0de531a6b"
      },
      "source": [
        "tel_3.isnull().sum() "
      ],
      "execution_count": 460,
      "outputs": [
        {
          "output_type": "execute_result",
          "data": {
            "text/plain": [
              "PRODUCT              0\n",
              "VALUE                0\n",
              "DATE_TIME            0\n",
              "CELL_ON_SITE         0\n",
              "DW_A_NUMBER_INT      0\n",
              "DW_B_NUMBER_INT      0\n",
              "COUNTRY_A            0\n",
              "COUNTRY_B            0\n",
              "CELLID               0\n",
              "SIET_ID            605\n",
              "dtype: int64"
            ]
          },
          "metadata": {
            "tags": []
          },
          "execution_count": 460
        }
      ]
    },
    {
      "cell_type": "code",
      "metadata": {
        "id": "Q382b6KW-uW2",
        "colab_type": "code",
        "colab": {
          "base_uri": "https://localhost:8080/",
          "height": 0
        },
        "outputId": "19284b53-1b22-4b58-b6d3-c5ee0c16f509"
      },
      "source": [
        "geo.isnull().sum()"
      ],
      "execution_count": 461,
      "outputs": [
        {
          "output_type": "execute_result",
          "data": {
            "text/plain": [
              "Unnamed: 0       0\n",
              "VILLES           0\n",
              "STATUS          67\n",
              "LOCALISATION     0\n",
              "DECOUPZONE       0\n",
              "ZONENAME         6\n",
              "LONGITUDE        0\n",
              "LATITUDE         0\n",
              "REGION           0\n",
              "AREA            23\n",
              "CELL_ID          0\n",
              "SITE_CODE        0\n",
              "dtype: int64"
            ]
          },
          "metadata": {
            "tags": []
          },
          "execution_count": 461
        }
      ]
    },
    {
      "cell_type": "code",
      "metadata": {
        "id": "WJQhAF1g-yv4",
        "colab_type": "code",
        "colab": {
          "base_uri": "https://localhost:8080/",
          "height": 0
        },
        "outputId": "1141edb0-dec9-41fd-b8ca-7171dd7278d0"
      },
      "source": [
        "print(f'Number of duplicate rows in geo : {geo.duplicated().sum()}')\n",
        "print(f'Number of duplicate rows in tel_1 : {tel_1.duplicated().sum()}')\n",
        "print(f'Number of duplicate rows in tel_2 : {tel_2.duplicated().sum()}')\n",
        "print(f'Number of duplicate rows in tel_3 : {tel_3.duplicated().sum()}')"
      ],
      "execution_count": 462,
      "outputs": [
        {
          "output_type": "stream",
          "text": [
            "Number of duplicate rows in geo : 0\n",
            "Number of duplicate rows in tel_1 : 82\n",
            "Number of duplicate rows in tel_2 : 78\n",
            "Number of duplicate rows in tel_3 : 93\n"
          ],
          "name": "stdout"
        }
      ]
    },
    {
      "cell_type": "markdown",
      "metadata": {
        "id": "yzNogf6GHtWs",
        "colab_type": "text"
      },
      "source": [
        "# Data Preperation"
      ]
    },
    {
      "cell_type": "markdown",
      "metadata": {
        "id": "S3N9HQx6i5lY",
        "colab_type": "text"
      },
      "source": [
        "## Renaming columns"
      ]
    },
    {
      "cell_type": "code",
      "metadata": {
        "id": "g0ZpFUqAjEbq",
        "colab_type": "code",
        "colab": {
          "base_uri": "https://localhost:8080/",
          "height": 0
        },
        "outputId": "1627edab-e1fb-45af-b7b4-bbe7d4db24e2"
      },
      "source": [
        "tel_1.columns"
      ],
      "execution_count": 463,
      "outputs": [
        {
          "output_type": "execute_result",
          "data": {
            "text/plain": [
              "Index(['PRODUTC', 'VALUE', 'DATETIME', 'CELL_ON_SITE', 'DW_A_NUMBER_INT',\n",
              "       'DW_B_NUMBER_INT', 'COUNTRY_A', 'COUNTRY_B', 'CELL_ID', 'SITE_ID'],\n",
              "      dtype='object')"
            ]
          },
          "metadata": {
            "tags": []
          },
          "execution_count": 463
        }
      ]
    },
    {
      "cell_type": "code",
      "metadata": {
        "id": "cjNovIRuj-f_",
        "colab_type": "code",
        "colab": {}
      },
      "source": [
        "tel_1.rename(columns = {'PRODUTC':'PRODUCT', 'DATETIME':'DATE_TIME'}, inplace=True)"
      ],
      "execution_count": 464,
      "outputs": []
    },
    {
      "cell_type": "code",
      "metadata": {
        "id": "kh9i-Y_gjJpX",
        "colab_type": "code",
        "colab": {
          "base_uri": "https://localhost:8080/",
          "height": 0
        },
        "outputId": "16b81a3d-43b4-4aed-f9ef-3f839eaf44fa"
      },
      "source": [
        "tel_2.columns"
      ],
      "execution_count": 465,
      "outputs": [
        {
          "output_type": "execute_result",
          "data": {
            "text/plain": [
              "Index(['PRODUCT', 'VALUE', 'DATE_TIME', 'CELL_ON_SITE', 'DW_A_NUMBER',\n",
              "       'DW_B_NUMBER', 'COUNTRY_A', 'COUNTRY_B', 'CELL_ID', 'SITE_ID'],\n",
              "      dtype='object')"
            ]
          },
          "metadata": {
            "tags": []
          },
          "execution_count": 465
        }
      ]
    },
    {
      "cell_type": "code",
      "metadata": {
        "id": "JWy1FxNtlXd6",
        "colab_type": "code",
        "colab": {}
      },
      "source": [
        "tel_2.rename(columns = {'DW_A_NUMBER':'DW_A_NUMBER_INT', 'DW_B_NUMBER':'DW_B_NUMBER_INT' }, inplace=True)"
      ],
      "execution_count": 466,
      "outputs": []
    },
    {
      "cell_type": "code",
      "metadata": {
        "id": "Bp6N97ZVjONG",
        "colab_type": "code",
        "colab": {
          "base_uri": "https://localhost:8080/",
          "height": 0
        },
        "outputId": "017e0b1b-7fd9-4f0e-f289-5399a7034752"
      },
      "source": [
        "tel_3.columns"
      ],
      "execution_count": 467,
      "outputs": [
        {
          "output_type": "execute_result",
          "data": {
            "text/plain": [
              "Index(['PRODUCT', 'VALUE', 'DATE_TIME', 'CELL_ON_SITE', 'DW_A_NUMBER_INT',\n",
              "       'DW_B_NUMBER_INT', 'COUNTRY_A', 'COUNTRY_B', 'CELLID', 'SIET_ID'],\n",
              "      dtype='object')"
            ]
          },
          "metadata": {
            "tags": []
          },
          "execution_count": 467
        }
      ]
    },
    {
      "cell_type": "code",
      "metadata": {
        "id": "r9xI_AbJlZp-",
        "colab_type": "code",
        "colab": {}
      },
      "source": [
        "tel_3.rename(columns = {'CELLID':'CELL_ID', 'SIET_ID':'SITE_ID'}, inplace=True)"
      ],
      "execution_count": 468,
      "outputs": []
    },
    {
      "cell_type": "code",
      "metadata": {
        "id": "f5SnUUENjQAB",
        "colab_type": "code",
        "colab": {
          "base_uri": "https://localhost:8080/",
          "height": 0
        },
        "outputId": "65534c98-3496-4a90-fca7-01ce52ccd6e8"
      },
      "source": [
        "geo.columns"
      ],
      "execution_count": 469,
      "outputs": [
        {
          "output_type": "execute_result",
          "data": {
            "text/plain": [
              "Index(['Unnamed: 0', 'VILLES', 'STATUS', 'LOCALISATION', 'DECOUPZONE',\n",
              "       'ZONENAME', 'LONGITUDE', 'LATITUDE', 'REGION', 'AREA', 'CELL_ID',\n",
              "       'SITE_CODE'],\n",
              "      dtype='object')"
            ]
          },
          "metadata": {
            "tags": []
          },
          "execution_count": 469
        }
      ]
    },
    {
      "cell_type": "code",
      "metadata": {
        "id": "tnT7PSxmjgKm",
        "colab_type": "code",
        "colab": {
          "base_uri": "https://localhost:8080/",
          "height": 0
        },
        "outputId": "bf885785-1d5a-4294-fe61-9ffcff57ee38"
      },
      "source": [
        "tel_1.columns\n"
      ],
      "execution_count": 470,
      "outputs": [
        {
          "output_type": "execute_result",
          "data": {
            "text/plain": [
              "Index(['PRODUCT', 'VALUE', 'DATE_TIME', 'CELL_ON_SITE', 'DW_A_NUMBER_INT',\n",
              "       'DW_B_NUMBER_INT', 'COUNTRY_A', 'COUNTRY_B', 'CELL_ID', 'SITE_ID'],\n",
              "      dtype='object')"
            ]
          },
          "metadata": {
            "tags": []
          },
          "execution_count": 470
        }
      ]
    },
    {
      "cell_type": "code",
      "metadata": {
        "id": "wISvZtjOqf_8",
        "colab_type": "code",
        "colab": {
          "base_uri": "https://localhost:8080/",
          "height": 0
        },
        "outputId": "051825d9-da07-4341-e292-a13a7f62a652"
      },
      "source": [
        "tel_2.columns"
      ],
      "execution_count": 471,
      "outputs": [
        {
          "output_type": "execute_result",
          "data": {
            "text/plain": [
              "Index(['PRODUCT', 'VALUE', 'DATE_TIME', 'CELL_ON_SITE', 'DW_A_NUMBER_INT',\n",
              "       'DW_B_NUMBER_INT', 'COUNTRY_A', 'COUNTRY_B', 'CELL_ID', 'SITE_ID'],\n",
              "      dtype='object')"
            ]
          },
          "metadata": {
            "tags": []
          },
          "execution_count": 471
        }
      ]
    },
    {
      "cell_type": "code",
      "metadata": {
        "id": "3ahwpydQqkuB",
        "colab_type": "code",
        "colab": {
          "base_uri": "https://localhost:8080/",
          "height": 0
        },
        "outputId": "48c5623e-2186-422e-b411-b50c599ab5f8"
      },
      "source": [
        "tel_3.columns"
      ],
      "execution_count": 472,
      "outputs": [
        {
          "output_type": "execute_result",
          "data": {
            "text/plain": [
              "Index(['PRODUCT', 'VALUE', 'DATE_TIME', 'CELL_ON_SITE', 'DW_A_NUMBER_INT',\n",
              "       'DW_B_NUMBER_INT', 'COUNTRY_A', 'COUNTRY_B', 'CELL_ID', 'SITE_ID'],\n",
              "      dtype='object')"
            ]
          },
          "metadata": {
            "tags": []
          },
          "execution_count": 472
        }
      ]
    },
    {
      "cell_type": "code",
      "metadata": {
        "id": "POT3g43hrWVz",
        "colab_type": "code",
        "colab": {
          "base_uri": "https://localhost:8080/",
          "height": 0
        },
        "outputId": "ea7f7cb4-005c-46c9-d379-aef8c86d8aff"
      },
      "source": [
        "tel_3.dtypes"
      ],
      "execution_count": 473,
      "outputs": [
        {
          "output_type": "execute_result",
          "data": {
            "text/plain": [
              "PRODUCT            object\n",
              "VALUE               int64\n",
              "DATE_TIME          object\n",
              "CELL_ON_SITE       object\n",
              "DW_A_NUMBER_INT    object\n",
              "DW_B_NUMBER_INT    object\n",
              "COUNTRY_A          object\n",
              "COUNTRY_B          object\n",
              "CELL_ID            object\n",
              "SITE_ID            object\n",
              "dtype: object"
            ]
          },
          "metadata": {
            "tags": []
          },
          "execution_count": 473
        }
      ]
    },
    {
      "cell_type": "markdown",
      "metadata": {
        "id": "y_N_DC8IoVIU",
        "colab_type": "text"
      },
      "source": [
        "## Remove the column 'Unnamed: 0'\n",
        "\n",
        "\n"
      ]
    },
    {
      "cell_type": "code",
      "metadata": {
        "id": "Dy4JN2GVglt4",
        "colab_type": "code",
        "colab": {
          "base_uri": "https://localhost:8080/",
          "height": 0
        },
        "outputId": "14112a52-fff4-4f4d-aca0-38a2958e085c"
      },
      "source": [
        "geo.columns"
      ],
      "execution_count": 474,
      "outputs": [
        {
          "output_type": "execute_result",
          "data": {
            "text/plain": [
              "Index(['Unnamed: 0', 'VILLES', 'STATUS', 'LOCALISATION', 'DECOUPZONE',\n",
              "       'ZONENAME', 'LONGITUDE', 'LATITUDE', 'REGION', 'AREA', 'CELL_ID',\n",
              "       'SITE_CODE'],\n",
              "      dtype='object')"
            ]
          },
          "metadata": {
            "tags": []
          },
          "execution_count": 474
        }
      ]
    },
    {
      "cell_type": "code",
      "metadata": {
        "id": "6lf-gZXRf9wO",
        "colab_type": "code",
        "colab": {}
      },
      "source": [
        "try:\n",
        "  geo.drop('Unnamed: 0', axis=1, inplace=True )\n",
        "except:\n",
        "  print('Done!')"
      ],
      "execution_count": 475,
      "outputs": []
    },
    {
      "cell_type": "markdown",
      "metadata": {
        "id": "JBpV5zz85eF4",
        "colab_type": "text"
      },
      "source": [
        "## Remove column 'CELL_ON_SITE', 'COUNTRY_A' and 'COUNTRY_B'\n"
      ]
    },
    {
      "cell_type": "code",
      "metadata": {
        "id": "GDglbmKT6OrB",
        "colab_type": "code",
        "colab": {}
      },
      "source": [
        "try:\n",
        "  tel_1.drop('CELL_ON_SITE', axis=1, inplace=True)\n",
        "  tel_1.drop('COUNTRY_A', axis=1, inplace=True)\n",
        "  tel_1.drop('COUNTRY_B', axis=1, inplace=True)\n",
        "\n",
        "  tel_2.drop('CELL_ON_SITE', axis=1, inplace=True)\n",
        "  tel_2.drop('COUNTRY_A', axis=1, inplace=True)\n",
        "  tel_2.drop('COUNTRY_B', axis=1, inplace=True)\n",
        "\n",
        "  tel_3.drop('CELL_ON_SITE', axis=1, inplace=True)\n",
        "  tel_3.drop('COUNTRY_A', axis=1, inplace=True)\n",
        "  tel_3.drop('COUNTRY_B', axis=1, inplace=True)\n",
        "except:\n",
        "  print('Done!')"
      ],
      "execution_count": 476,
      "outputs": []
    },
    {
      "cell_type": "markdown",
      "metadata": {
        "id": "ZdOZqV7rH87w",
        "colab_type": "text"
      },
      "source": [
        "## Removing Duplicate values"
      ]
    },
    {
      "cell_type": "code",
      "metadata": {
        "id": "cstuheiBWL3i",
        "colab_type": "code",
        "colab": {
          "base_uri": "https://localhost:8080/",
          "height": 85
        },
        "outputId": "c99bded7-f87e-4797-858b-b8f18b75d063"
      },
      "source": [
        "print(f'Number of duplicate rows in geo : {geo.duplicated().sum()}')\n",
        "print(f'Number of duplicate rows in tel_1 : {tel_1.duplicated().sum()}')\n",
        "print(f'Number of duplicate rows in tel_2 : {tel_2.duplicated().sum()}')\n",
        "print(f'Number of duplicate rows in tel_3 : {tel_3.duplicated().sum()}')"
      ],
      "execution_count": 477,
      "outputs": [
        {
          "output_type": "stream",
          "text": [
            "Number of duplicate rows in geo : 43\n",
            "Number of duplicate rows in tel_1 : 82\n",
            "Number of duplicate rows in tel_2 : 78\n",
            "Number of duplicate rows in tel_3 : 93\n"
          ],
          "name": "stdout"
        }
      ]
    },
    {
      "cell_type": "code",
      "metadata": {
        "id": "6qQ7tlDjMO3W",
        "colab_type": "code",
        "colab": {}
      },
      "source": [
        "# displays the duplicated rows in \"tel_1\"\n"
      ],
      "execution_count": 478,
      "outputs": []
    },
    {
      "cell_type": "code",
      "metadata": {
        "id": "2Ii4uSNRawtP",
        "colab_type": "code",
        "colab": {}
      },
      "source": [
        "tel_1 = tel_1.drop_duplicates(keep='first')"
      ],
      "execution_count": 479,
      "outputs": []
    },
    {
      "cell_type": "code",
      "metadata": {
        "id": "J_ZJJ8s1fjIX",
        "colab_type": "code",
        "colab": {}
      },
      "source": [
        "tel_2 = tel_2.drop_duplicates(keep='first')"
      ],
      "execution_count": 480,
      "outputs": []
    },
    {
      "cell_type": "code",
      "metadata": {
        "id": "ZJYhqPCifjl9",
        "colab_type": "code",
        "colab": {}
      },
      "source": [
        "tel_3 = tel_3.drop_duplicates(keep='first')"
      ],
      "execution_count": 481,
      "outputs": []
    },
    {
      "cell_type": "code",
      "metadata": {
        "id": "GLm3fzAs6tSa",
        "colab_type": "code",
        "colab": {}
      },
      "source": [
        "geo = geo.drop_duplicates(keep='first')"
      ],
      "execution_count": 482,
      "outputs": []
    },
    {
      "cell_type": "code",
      "metadata": {
        "id": "Ox4QFPbZLxuj",
        "colab_type": "code",
        "colab": {}
      },
      "source": [
        "geo['SITE_CODE'] = geo['SITE_CODE'].drop_duplicates(keep='first')"
      ],
      "execution_count": 483,
      "outputs": []
    },
    {
      "cell_type": "markdown",
      "metadata": {
        "id": "iXC7VxuvIiLV",
        "colab_type": "text"
      },
      "source": [
        "## Concatenate \"tel_1\", \"tel_2\" and \"tel_3\""
      ]
    },
    {
      "cell_type": "code",
      "metadata": {
        "id": "F72_yv6LKCUT",
        "colab_type": "code",
        "colab": {
          "base_uri": "https://localhost:8080/",
          "height": 0
        },
        "outputId": "2dbb79a8-481c-42fd-ea2d-4aa881220771"
      },
      "source": [
        "tel = pd.concat((tel_1, tel_2, tel_3), axis=0, ignore_index=True)\n",
        "tel"
      ],
      "execution_count": 484,
      "outputs": [
        {
          "output_type": "execute_result",
          "data": {
            "text/html": [
              "<div>\n",
              "<style scoped>\n",
              "    .dataframe tbody tr th:only-of-type {\n",
              "        vertical-align: middle;\n",
              "    }\n",
              "\n",
              "    .dataframe tbody tr th {\n",
              "        vertical-align: top;\n",
              "    }\n",
              "\n",
              "    .dataframe thead th {\n",
              "        text-align: right;\n",
              "    }\n",
              "</style>\n",
              "<table border=\"1\" class=\"dataframe\">\n",
              "  <thead>\n",
              "    <tr style=\"text-align: right;\">\n",
              "      <th></th>\n",
              "      <th>PRODUCT</th>\n",
              "      <th>VALUE</th>\n",
              "      <th>DATE_TIME</th>\n",
              "      <th>DW_A_NUMBER_INT</th>\n",
              "      <th>DW_B_NUMBER_INT</th>\n",
              "      <th>CELL_ID</th>\n",
              "      <th>SITE_ID</th>\n",
              "    </tr>\n",
              "  </thead>\n",
              "  <tbody>\n",
              "    <tr>\n",
              "      <th>0</th>\n",
              "      <td>Voice</td>\n",
              "      <td>0</td>\n",
              "      <td>2012-05-06 23:04:37.0</td>\n",
              "      <td>49fae048b547780</td>\n",
              "      <td>1a49f8b0ded9de6</td>\n",
              "      <td>/TJNe+Mmtu</td>\n",
              "      <td>/TJNe+Mmtu</td>\n",
              "    </tr>\n",
              "    <tr>\n",
              "      <th>1</th>\n",
              "      <td>sms</td>\n",
              "      <td>0</td>\n",
              "      <td>2012-05-06 23:05:25.0</td>\n",
              "      <td>7a54a6eaee19e65</td>\n",
              "      <td>93343ba6e41af95</td>\n",
              "      <td>/+cKZKIp41</td>\n",
              "      <td>/+cKZKIp41</td>\n",
              "    </tr>\n",
              "    <tr>\n",
              "      <th>2</th>\n",
              "      <td>sms</td>\n",
              "      <td>25</td>\n",
              "      <td>2012-05-06 23:05:41.0</td>\n",
              "      <td>6008887b0207d82</td>\n",
              "      <td>7aacc9709ce0a20</td>\n",
              "      <td>/u0FSD+ahi</td>\n",
              "      <td>/u0FSD+ahi</td>\n",
              "    </tr>\n",
              "    <tr>\n",
              "      <th>3</th>\n",
              "      <td>Voice</td>\n",
              "      <td>56</td>\n",
              "      <td>2012-05-06 23:05:42.0</td>\n",
              "      <td>7370032e20f4e96</td>\n",
              "      <td>6af4a60e74c91d3</td>\n",
              "      <td>+cNeJzsTp3</td>\n",
              "      <td>+cNeJzsTp3</td>\n",
              "    </tr>\n",
              "    <tr>\n",
              "      <th>4</th>\n",
              "      <td>Voice</td>\n",
              "      <td>14</td>\n",
              "      <td>2012-05-06 23:06:29.0</td>\n",
              "      <td>966ba4656e38e62</td>\n",
              "      <td>02aa736ee555d5c</td>\n",
              "      <td>051KhYDCpv</td>\n",
              "      <td>051KhYDCpv</td>\n",
              "    </tr>\n",
              "    <tr>\n",
              "      <th>...</th>\n",
              "      <td>...</td>\n",
              "      <td>...</td>\n",
              "      <td>...</td>\n",
              "      <td>...</td>\n",
              "      <td>...</td>\n",
              "      <td>...</td>\n",
              "      <td>...</td>\n",
              "    </tr>\n",
              "    <tr>\n",
              "      <th>14745</th>\n",
              "      <td>Voice</td>\n",
              "      <td>10</td>\n",
              "      <td>2012-05-09 00:01:43.0</td>\n",
              "      <td>2f834987f0c1825</td>\n",
              "      <td>accc8e5c1164343</td>\n",
              "      <td>6467daa1db</td>\n",
              "      <td>8a96bae9c1</td>\n",
              "    </tr>\n",
              "    <tr>\n",
              "      <th>14746</th>\n",
              "      <td>Voice</td>\n",
              "      <td>0</td>\n",
              "      <td>2012-05-09 00:01:43.0</td>\n",
              "      <td>467333ade2b4b9c</td>\n",
              "      <td>0ab2acd804d01fe</td>\n",
              "      <td>2aa04dcab7</td>\n",
              "      <td>f7d63a29e5</td>\n",
              "    </tr>\n",
              "    <tr>\n",
              "      <th>14747</th>\n",
              "      <td>Voice</td>\n",
              "      <td>62</td>\n",
              "      <td>2012-05-09 00:01:43.0</td>\n",
              "      <td>e077a6b74c5053c</td>\n",
              "      <td>4c8098eb6ea1a41</td>\n",
              "      <td>7f1f2f889f</td>\n",
              "      <td>b4ddb9e93c</td>\n",
              "    </tr>\n",
              "    <tr>\n",
              "      <th>14748</th>\n",
              "      <td>Voice</td>\n",
              "      <td>30</td>\n",
              "      <td>2012-05-09 00:01:43.0</td>\n",
              "      <td>672ce74c418aa7a</td>\n",
              "      <td>f9ff5af59cf0d68</td>\n",
              "      <td>98ed726da2</td>\n",
              "      <td>b4130b54ab</td>\n",
              "    </tr>\n",
              "    <tr>\n",
              "      <th>14749</th>\n",
              "      <td>Voice</td>\n",
              "      <td>60</td>\n",
              "      <td>2012-05-09 00:01:43.0</td>\n",
              "      <td>6edeb4c55714650</td>\n",
              "      <td>7e60838216482a7</td>\n",
              "      <td>1c11a2fcbb</td>\n",
              "      <td>6d70dae094</td>\n",
              "    </tr>\n",
              "  </tbody>\n",
              "</table>\n",
              "<p>14750 rows × 7 columns</p>\n",
              "</div>"
            ],
            "text/plain": [
              "      PRODUCT  VALUE  ...     CELL_ID     SITE_ID\n",
              "0       Voice      0  ...  /TJNe+Mmtu  /TJNe+Mmtu\n",
              "1         sms      0  ...  /+cKZKIp41  /+cKZKIp41\n",
              "2         sms     25  ...  /u0FSD+ahi  /u0FSD+ahi\n",
              "3       Voice     56  ...  +cNeJzsTp3  +cNeJzsTp3\n",
              "4       Voice     14  ...  051KhYDCpv  051KhYDCpv\n",
              "...       ...    ...  ...         ...         ...\n",
              "14745   Voice     10  ...  6467daa1db  8a96bae9c1\n",
              "14746   Voice      0  ...  2aa04dcab7  f7d63a29e5\n",
              "14747   Voice     62  ...  7f1f2f889f  b4ddb9e93c\n",
              "14748   Voice     30  ...  98ed726da2  b4130b54ab\n",
              "14749   Voice     60  ...  1c11a2fcbb  6d70dae094\n",
              "\n",
              "[14750 rows x 7 columns]"
            ]
          },
          "metadata": {
            "tags": []
          },
          "execution_count": 484
        }
      ]
    },
    {
      "cell_type": "markdown",
      "metadata": {
        "id": "rYd7VmM5LWjf",
        "colab_type": "text"
      },
      "source": [
        "## Mergeing \"tel\" with geo"
      ]
    },
    {
      "cell_type": "code",
      "metadata": {
        "id": "aZfXkzlTSaay",
        "colab_type": "code",
        "colab": {
          "base_uri": "https://localhost:8080/",
          "height": 68
        },
        "outputId": "fd8db5aa-354f-4ea8-e72f-c29aadffce7b"
      },
      "source": [
        "tel.columns"
      ],
      "execution_count": 485,
      "outputs": [
        {
          "output_type": "execute_result",
          "data": {
            "text/plain": [
              "Index(['PRODUCT', 'VALUE', 'DATE_TIME', 'DW_A_NUMBER_INT', 'DW_B_NUMBER_INT',\n",
              "       'CELL_ID', 'SITE_ID'],\n",
              "      dtype='object')"
            ]
          },
          "metadata": {
            "tags": []
          },
          "execution_count": 485
        }
      ]
    },
    {
      "cell_type": "code",
      "metadata": {
        "id": "WXEeMhc9SbEM",
        "colab_type": "code",
        "colab": {
          "base_uri": "https://localhost:8080/",
          "height": 694
        },
        "outputId": "7d99547e-eb15-4cfd-f441-76cd7e3dcd1f"
      },
      "source": [
        "geo"
      ],
      "execution_count": 486,
      "outputs": [
        {
          "output_type": "execute_result",
          "data": {
            "text/html": [
              "<div>\n",
              "<style scoped>\n",
              "    .dataframe tbody tr th:only-of-type {\n",
              "        vertical-align: middle;\n",
              "    }\n",
              "\n",
              "    .dataframe tbody tr th {\n",
              "        vertical-align: top;\n",
              "    }\n",
              "\n",
              "    .dataframe thead th {\n",
              "        text-align: right;\n",
              "    }\n",
              "</style>\n",
              "<table border=\"1\" class=\"dataframe\">\n",
              "  <thead>\n",
              "    <tr style=\"text-align: right;\">\n",
              "      <th></th>\n",
              "      <th>VILLES</th>\n",
              "      <th>STATUS</th>\n",
              "      <th>LOCALISATION</th>\n",
              "      <th>DECOUPZONE</th>\n",
              "      <th>ZONENAME</th>\n",
              "      <th>LONGITUDE</th>\n",
              "      <th>LATITUDE</th>\n",
              "      <th>REGION</th>\n",
              "      <th>AREA</th>\n",
              "      <th>CELL_ID</th>\n",
              "      <th>SITE_CODE</th>\n",
              "    </tr>\n",
              "  </thead>\n",
              "  <tbody>\n",
              "    <tr>\n",
              "      <th>0</th>\n",
              "      <td>ADJAME</td>\n",
              "      <td>In Service</td>\n",
              "      <td>ABIDJAN</td>\n",
              "      <td>\"Abidjan_EST</td>\n",
              "      <td>AGBANNEW</td>\n",
              "      <td>-4.000667</td>\n",
              "      <td>5.368194</td>\n",
              "      <td>LAGUNE</td>\n",
              "      <td>NaN</td>\n",
              "      <td>fbb2e75af3</td>\n",
              "      <td>0bb492ef17</td>\n",
              "    </tr>\n",
              "    <tr>\n",
              "      <th>1</th>\n",
              "      <td>ADJAME</td>\n",
              "      <td>In Service</td>\n",
              "      <td>ABIDJAN</td>\n",
              "      <td>\"Abidjan_EST</td>\n",
              "      <td>AGBANNEW</td>\n",
              "      <td>-4.000667</td>\n",
              "      <td>5.368194</td>\n",
              "      <td>LAGUNE</td>\n",
              "      <td>NaN</td>\n",
              "      <td>1502501d78</td>\n",
              "      <td>NaN</td>\n",
              "    </tr>\n",
              "    <tr>\n",
              "      <th>2</th>\n",
              "      <td>ADJAME</td>\n",
              "      <td>In Service</td>\n",
              "      <td>ABIDJAN</td>\n",
              "      <td>\"Abidjan_EST</td>\n",
              "      <td>AGBANNEW</td>\n",
              "      <td>-4.000667</td>\n",
              "      <td>5.368194</td>\n",
              "      <td>LAGUNE</td>\n",
              "      <td>NaN</td>\n",
              "      <td>0c2e182a0c</td>\n",
              "      <td>NaN</td>\n",
              "    </tr>\n",
              "    <tr>\n",
              "      <th>3</th>\n",
              "      <td>ASSINIE</td>\n",
              "      <td>In Service</td>\n",
              "      <td>INTERIEUR</td>\n",
              "      <td>Grand-EST</td>\n",
              "      <td>ASSINIE\"</td>\n",
              "      <td>-3.488467</td>\n",
              "      <td>5.158761</td>\n",
              "      <td>SUD COMOE</td>\n",
              "      <td>NaN</td>\n",
              "      <td>69bdfc69fd</td>\n",
              "      <td>8a1e6ce31f</td>\n",
              "    </tr>\n",
              "    <tr>\n",
              "      <th>4</th>\n",
              "      <td>ASSINIE</td>\n",
              "      <td>In Service</td>\n",
              "      <td>INTERIEUR</td>\n",
              "      <td>Grand-EST</td>\n",
              "      <td>ASSINIE\"</td>\n",
              "      <td>-3.488467</td>\n",
              "      <td>5.158761</td>\n",
              "      <td>SUD COMOE</td>\n",
              "      <td>NaN</td>\n",
              "      <td>7a1029d2ab</td>\n",
              "      <td>NaN</td>\n",
              "    </tr>\n",
              "    <tr>\n",
              "      <th>...</th>\n",
              "      <td>...</td>\n",
              "      <td>...</td>\n",
              "      <td>...</td>\n",
              "      <td>...</td>\n",
              "      <td>...</td>\n",
              "      <td>...</td>\n",
              "      <td>...</td>\n",
              "      <td>...</td>\n",
              "      <td>...</td>\n",
              "      <td>...</td>\n",
              "      <td>...</td>\n",
              "    </tr>\n",
              "    <tr>\n",
              "      <th>3969</th>\n",
              "      <td>ZUENOULA</td>\n",
              "      <td>In Service</td>\n",
              "      <td>INTERIEUR</td>\n",
              "      <td>Grand-NORD</td>\n",
              "      <td>ZONE A - Grand-NORD</td>\n",
              "      <td>-6.039694</td>\n",
              "      <td>7.428611</td>\n",
              "      <td>MARAHOUE</td>\n",
              "      <td>CENTRE NORTH</td>\n",
              "      <td>1cfc2d7ab1</td>\n",
              "      <td>NaN</td>\n",
              "    </tr>\n",
              "    <tr>\n",
              "      <th>3970</th>\n",
              "      <td>ZUENOULA</td>\n",
              "      <td>In Service</td>\n",
              "      <td>INTERIEUR</td>\n",
              "      <td>Grand-NORD</td>\n",
              "      <td>ZONE A - Grand-NORD</td>\n",
              "      <td>-6.039694</td>\n",
              "      <td>7.428611</td>\n",
              "      <td>MARAHOUE</td>\n",
              "      <td>CENTRE NORTH</td>\n",
              "      <td>3ae1708153</td>\n",
              "      <td>NaN</td>\n",
              "    </tr>\n",
              "    <tr>\n",
              "      <th>3971</th>\n",
              "      <td>ZUENOULA</td>\n",
              "      <td>In Service</td>\n",
              "      <td>INTERIEUR</td>\n",
              "      <td>Grand-NORD</td>\n",
              "      <td>ZONE A - Grand-NORD</td>\n",
              "      <td>-6.065450</td>\n",
              "      <td>7.444592</td>\n",
              "      <td>MARAHOUE</td>\n",
              "      <td>CENTRE NORTH</td>\n",
              "      <td>cb71f8a29c</td>\n",
              "      <td>61bee9c70c</td>\n",
              "    </tr>\n",
              "    <tr>\n",
              "      <th>3972</th>\n",
              "      <td>ZUENOULA</td>\n",
              "      <td>In Service</td>\n",
              "      <td>INTERIEUR</td>\n",
              "      <td>Grand-NORD</td>\n",
              "      <td>ZONE A - Grand-NORD</td>\n",
              "      <td>-6.065450</td>\n",
              "      <td>7.444592</td>\n",
              "      <td>MARAHOUE</td>\n",
              "      <td>CENTRE NORTH</td>\n",
              "      <td>d4a6a0b645</td>\n",
              "      <td>NaN</td>\n",
              "    </tr>\n",
              "    <tr>\n",
              "      <th>3973</th>\n",
              "      <td>ZUENOULA</td>\n",
              "      <td>In Service</td>\n",
              "      <td>INTERIEUR</td>\n",
              "      <td>Grand-NORD</td>\n",
              "      <td>ZONE A - Grand-NORD</td>\n",
              "      <td>-6.065450</td>\n",
              "      <td>7.444592</td>\n",
              "      <td>MARAHOUE</td>\n",
              "      <td>CENTRE NORTH</td>\n",
              "      <td>f9f3e42589</td>\n",
              "      <td>NaN</td>\n",
              "    </tr>\n",
              "  </tbody>\n",
              "</table>\n",
              "<p>3931 rows × 11 columns</p>\n",
              "</div>"
            ],
            "text/plain": [
              "        VILLES      STATUS LOCALISATION  ...          AREA     CELL_ID   SITE_CODE\n",
              "0       ADJAME  In Service      ABIDJAN  ...           NaN  fbb2e75af3  0bb492ef17\n",
              "1       ADJAME  In Service      ABIDJAN  ...           NaN  1502501d78         NaN\n",
              "2       ADJAME  In Service      ABIDJAN  ...           NaN  0c2e182a0c         NaN\n",
              "3      ASSINIE  In Service    INTERIEUR  ...           NaN  69bdfc69fd  8a1e6ce31f\n",
              "4      ASSINIE  In Service    INTERIEUR  ...           NaN  7a1029d2ab         NaN\n",
              "...        ...         ...          ...  ...           ...         ...         ...\n",
              "3969  ZUENOULA  In Service    INTERIEUR  ...  CENTRE NORTH  1cfc2d7ab1         NaN\n",
              "3970  ZUENOULA  In Service    INTERIEUR  ...  CENTRE NORTH  3ae1708153         NaN\n",
              "3971  ZUENOULA  In Service    INTERIEUR  ...  CENTRE NORTH  cb71f8a29c  61bee9c70c\n",
              "3972  ZUENOULA  In Service    INTERIEUR  ...  CENTRE NORTH  d4a6a0b645         NaN\n",
              "3973  ZUENOULA  In Service    INTERIEUR  ...  CENTRE NORTH  f9f3e42589         NaN\n",
              "\n",
              "[3931 rows x 11 columns]"
            ]
          },
          "metadata": {
            "tags": []
          },
          "execution_count": 486
        }
      ]
    },
    {
      "cell_type": "code",
      "metadata": {
        "id": "dPyrvkE7LK7K",
        "colab_type": "code",
        "colab": {
          "base_uri": "https://localhost:8080/",
          "height": 694
        },
        "outputId": "1d5b6c10-ef3c-4fea-dda1-8458d688d42e"
      },
      "source": [
        "\n",
        "geo\n"
      ],
      "execution_count": 487,
      "outputs": [
        {
          "output_type": "execute_result",
          "data": {
            "text/html": [
              "<div>\n",
              "<style scoped>\n",
              "    .dataframe tbody tr th:only-of-type {\n",
              "        vertical-align: middle;\n",
              "    }\n",
              "\n",
              "    .dataframe tbody tr th {\n",
              "        vertical-align: top;\n",
              "    }\n",
              "\n",
              "    .dataframe thead th {\n",
              "        text-align: right;\n",
              "    }\n",
              "</style>\n",
              "<table border=\"1\" class=\"dataframe\">\n",
              "  <thead>\n",
              "    <tr style=\"text-align: right;\">\n",
              "      <th></th>\n",
              "      <th>VILLES</th>\n",
              "      <th>STATUS</th>\n",
              "      <th>LOCALISATION</th>\n",
              "      <th>DECOUPZONE</th>\n",
              "      <th>ZONENAME</th>\n",
              "      <th>LONGITUDE</th>\n",
              "      <th>LATITUDE</th>\n",
              "      <th>REGION</th>\n",
              "      <th>AREA</th>\n",
              "      <th>CELL_ID</th>\n",
              "      <th>SITE_CODE</th>\n",
              "    </tr>\n",
              "  </thead>\n",
              "  <tbody>\n",
              "    <tr>\n",
              "      <th>0</th>\n",
              "      <td>ADJAME</td>\n",
              "      <td>In Service</td>\n",
              "      <td>ABIDJAN</td>\n",
              "      <td>\"Abidjan_EST</td>\n",
              "      <td>AGBANNEW</td>\n",
              "      <td>-4.000667</td>\n",
              "      <td>5.368194</td>\n",
              "      <td>LAGUNE</td>\n",
              "      <td>NaN</td>\n",
              "      <td>fbb2e75af3</td>\n",
              "      <td>0bb492ef17</td>\n",
              "    </tr>\n",
              "    <tr>\n",
              "      <th>1</th>\n",
              "      <td>ADJAME</td>\n",
              "      <td>In Service</td>\n",
              "      <td>ABIDJAN</td>\n",
              "      <td>\"Abidjan_EST</td>\n",
              "      <td>AGBANNEW</td>\n",
              "      <td>-4.000667</td>\n",
              "      <td>5.368194</td>\n",
              "      <td>LAGUNE</td>\n",
              "      <td>NaN</td>\n",
              "      <td>1502501d78</td>\n",
              "      <td>NaN</td>\n",
              "    </tr>\n",
              "    <tr>\n",
              "      <th>2</th>\n",
              "      <td>ADJAME</td>\n",
              "      <td>In Service</td>\n",
              "      <td>ABIDJAN</td>\n",
              "      <td>\"Abidjan_EST</td>\n",
              "      <td>AGBANNEW</td>\n",
              "      <td>-4.000667</td>\n",
              "      <td>5.368194</td>\n",
              "      <td>LAGUNE</td>\n",
              "      <td>NaN</td>\n",
              "      <td>0c2e182a0c</td>\n",
              "      <td>NaN</td>\n",
              "    </tr>\n",
              "    <tr>\n",
              "      <th>3</th>\n",
              "      <td>ASSINIE</td>\n",
              "      <td>In Service</td>\n",
              "      <td>INTERIEUR</td>\n",
              "      <td>Grand-EST</td>\n",
              "      <td>ASSINIE\"</td>\n",
              "      <td>-3.488467</td>\n",
              "      <td>5.158761</td>\n",
              "      <td>SUD COMOE</td>\n",
              "      <td>NaN</td>\n",
              "      <td>69bdfc69fd</td>\n",
              "      <td>8a1e6ce31f</td>\n",
              "    </tr>\n",
              "    <tr>\n",
              "      <th>4</th>\n",
              "      <td>ASSINIE</td>\n",
              "      <td>In Service</td>\n",
              "      <td>INTERIEUR</td>\n",
              "      <td>Grand-EST</td>\n",
              "      <td>ASSINIE\"</td>\n",
              "      <td>-3.488467</td>\n",
              "      <td>5.158761</td>\n",
              "      <td>SUD COMOE</td>\n",
              "      <td>NaN</td>\n",
              "      <td>7a1029d2ab</td>\n",
              "      <td>NaN</td>\n",
              "    </tr>\n",
              "    <tr>\n",
              "      <th>...</th>\n",
              "      <td>...</td>\n",
              "      <td>...</td>\n",
              "      <td>...</td>\n",
              "      <td>...</td>\n",
              "      <td>...</td>\n",
              "      <td>...</td>\n",
              "      <td>...</td>\n",
              "      <td>...</td>\n",
              "      <td>...</td>\n",
              "      <td>...</td>\n",
              "      <td>...</td>\n",
              "    </tr>\n",
              "    <tr>\n",
              "      <th>3969</th>\n",
              "      <td>ZUENOULA</td>\n",
              "      <td>In Service</td>\n",
              "      <td>INTERIEUR</td>\n",
              "      <td>Grand-NORD</td>\n",
              "      <td>ZONE A - Grand-NORD</td>\n",
              "      <td>-6.039694</td>\n",
              "      <td>7.428611</td>\n",
              "      <td>MARAHOUE</td>\n",
              "      <td>CENTRE NORTH</td>\n",
              "      <td>1cfc2d7ab1</td>\n",
              "      <td>NaN</td>\n",
              "    </tr>\n",
              "    <tr>\n",
              "      <th>3970</th>\n",
              "      <td>ZUENOULA</td>\n",
              "      <td>In Service</td>\n",
              "      <td>INTERIEUR</td>\n",
              "      <td>Grand-NORD</td>\n",
              "      <td>ZONE A - Grand-NORD</td>\n",
              "      <td>-6.039694</td>\n",
              "      <td>7.428611</td>\n",
              "      <td>MARAHOUE</td>\n",
              "      <td>CENTRE NORTH</td>\n",
              "      <td>3ae1708153</td>\n",
              "      <td>NaN</td>\n",
              "    </tr>\n",
              "    <tr>\n",
              "      <th>3971</th>\n",
              "      <td>ZUENOULA</td>\n",
              "      <td>In Service</td>\n",
              "      <td>INTERIEUR</td>\n",
              "      <td>Grand-NORD</td>\n",
              "      <td>ZONE A - Grand-NORD</td>\n",
              "      <td>-6.065450</td>\n",
              "      <td>7.444592</td>\n",
              "      <td>MARAHOUE</td>\n",
              "      <td>CENTRE NORTH</td>\n",
              "      <td>cb71f8a29c</td>\n",
              "      <td>61bee9c70c</td>\n",
              "    </tr>\n",
              "    <tr>\n",
              "      <th>3972</th>\n",
              "      <td>ZUENOULA</td>\n",
              "      <td>In Service</td>\n",
              "      <td>INTERIEUR</td>\n",
              "      <td>Grand-NORD</td>\n",
              "      <td>ZONE A - Grand-NORD</td>\n",
              "      <td>-6.065450</td>\n",
              "      <td>7.444592</td>\n",
              "      <td>MARAHOUE</td>\n",
              "      <td>CENTRE NORTH</td>\n",
              "      <td>d4a6a0b645</td>\n",
              "      <td>NaN</td>\n",
              "    </tr>\n",
              "    <tr>\n",
              "      <th>3973</th>\n",
              "      <td>ZUENOULA</td>\n",
              "      <td>In Service</td>\n",
              "      <td>INTERIEUR</td>\n",
              "      <td>Grand-NORD</td>\n",
              "      <td>ZONE A - Grand-NORD</td>\n",
              "      <td>-6.065450</td>\n",
              "      <td>7.444592</td>\n",
              "      <td>MARAHOUE</td>\n",
              "      <td>CENTRE NORTH</td>\n",
              "      <td>f9f3e42589</td>\n",
              "      <td>NaN</td>\n",
              "    </tr>\n",
              "  </tbody>\n",
              "</table>\n",
              "<p>3931 rows × 11 columns</p>\n",
              "</div>"
            ],
            "text/plain": [
              "        VILLES      STATUS LOCALISATION  ...          AREA     CELL_ID   SITE_CODE\n",
              "0       ADJAME  In Service      ABIDJAN  ...           NaN  fbb2e75af3  0bb492ef17\n",
              "1       ADJAME  In Service      ABIDJAN  ...           NaN  1502501d78         NaN\n",
              "2       ADJAME  In Service      ABIDJAN  ...           NaN  0c2e182a0c         NaN\n",
              "3      ASSINIE  In Service    INTERIEUR  ...           NaN  69bdfc69fd  8a1e6ce31f\n",
              "4      ASSINIE  In Service    INTERIEUR  ...           NaN  7a1029d2ab         NaN\n",
              "...        ...         ...          ...  ...           ...         ...         ...\n",
              "3969  ZUENOULA  In Service    INTERIEUR  ...  CENTRE NORTH  1cfc2d7ab1         NaN\n",
              "3970  ZUENOULA  In Service    INTERIEUR  ...  CENTRE NORTH  3ae1708153         NaN\n",
              "3971  ZUENOULA  In Service    INTERIEUR  ...  CENTRE NORTH  cb71f8a29c  61bee9c70c\n",
              "3972  ZUENOULA  In Service    INTERIEUR  ...  CENTRE NORTH  d4a6a0b645         NaN\n",
              "3973  ZUENOULA  In Service    INTERIEUR  ...  CENTRE NORTH  f9f3e42589         NaN\n",
              "\n",
              "[3931 rows x 11 columns]"
            ]
          },
          "metadata": {
            "tags": []
          },
          "execution_count": 487
        }
      ]
    },
    {
      "cell_type": "code",
      "metadata": {
        "id": "ke4cfz04MhzW",
        "colab_type": "code",
        "colab": {
          "base_uri": "https://localhost:8080/",
          "height": 609
        },
        "outputId": "7f7aaab6-8d8a-4187-dbf9-c621b4973469"
      },
      "source": [
        "tel_geo = pd.merge(tel, geo, how='inner', left_on='SITE_ID' , right_on='SITE_CODE')\n",
        "tel_geo"
      ],
      "execution_count": 491,
      "outputs": [
        {
          "output_type": "execute_result",
          "data": {
            "text/html": [
              "<div>\n",
              "<style scoped>\n",
              "    .dataframe tbody tr th:only-of-type {\n",
              "        vertical-align: middle;\n",
              "    }\n",
              "\n",
              "    .dataframe tbody tr th {\n",
              "        vertical-align: top;\n",
              "    }\n",
              "\n",
              "    .dataframe thead th {\n",
              "        text-align: right;\n",
              "    }\n",
              "</style>\n",
              "<table border=\"1\" class=\"dataframe\">\n",
              "  <thead>\n",
              "    <tr style=\"text-align: right;\">\n",
              "      <th></th>\n",
              "      <th>PRODUCT</th>\n",
              "      <th>VALUE</th>\n",
              "      <th>DATE_TIME</th>\n",
              "      <th>DW_A_NUMBER_INT</th>\n",
              "      <th>DW_B_NUMBER_INT</th>\n",
              "      <th>CELL_ID_x</th>\n",
              "      <th>SITE_ID</th>\n",
              "      <th>VILLES</th>\n",
              "      <th>STATUS</th>\n",
              "      <th>LOCALISATION</th>\n",
              "      <th>DECOUPZONE</th>\n",
              "      <th>ZONENAME</th>\n",
              "      <th>LONGITUDE</th>\n",
              "      <th>LATITUDE</th>\n",
              "      <th>REGION</th>\n",
              "      <th>AREA</th>\n",
              "      <th>CELL_ID_y</th>\n",
              "      <th>SITE_CODE</th>\n",
              "    </tr>\n",
              "  </thead>\n",
              "  <tbody>\n",
              "    <tr>\n",
              "      <th>0</th>\n",
              "      <td>sms</td>\n",
              "      <td>0</td>\n",
              "      <td>2012-05-07 00:00:00.0</td>\n",
              "      <td>8118c3aa53d6c7b</td>\n",
              "      <td>1d103ea638ad1f0</td>\n",
              "      <td>5d9dc897f7</td>\n",
              "      <td>1b5540c02d</td>\n",
              "      <td>BOUAKE</td>\n",
              "      <td>In Service</td>\n",
              "      <td>INTERIEUR</td>\n",
              "      <td>Grand-NORD</td>\n",
              "      <td>ZONE A - Grand-NORD</td>\n",
              "      <td>-5.027139</td>\n",
              "      <td>7.718417</td>\n",
              "      <td>VALLEE DU BANDAMA</td>\n",
              "      <td>CENTRE NORTH</td>\n",
              "      <td>24ccdda3d5</td>\n",
              "      <td>1b5540c02d</td>\n",
              "    </tr>\n",
              "    <tr>\n",
              "      <th>1</th>\n",
              "      <td>Voice</td>\n",
              "      <td>92</td>\n",
              "      <td>2012-05-07 00:00:06.0</td>\n",
              "      <td>ada82842ff7cf09</td>\n",
              "      <td>d35102ff14c13b2</td>\n",
              "      <td>1e798cb0dc</td>\n",
              "      <td>1b5540c02d</td>\n",
              "      <td>BOUAKE</td>\n",
              "      <td>In Service</td>\n",
              "      <td>INTERIEUR</td>\n",
              "      <td>Grand-NORD</td>\n",
              "      <td>ZONE A - Grand-NORD</td>\n",
              "      <td>-5.027139</td>\n",
              "      <td>7.718417</td>\n",
              "      <td>VALLEE DU BANDAMA</td>\n",
              "      <td>CENTRE NORTH</td>\n",
              "      <td>24ccdda3d5</td>\n",
              "      <td>1b5540c02d</td>\n",
              "    </tr>\n",
              "    <tr>\n",
              "      <th>2</th>\n",
              "      <td>sms</td>\n",
              "      <td>25</td>\n",
              "      <td>2012-05-07 00:00:21.0</td>\n",
              "      <td>74189e127808747</td>\n",
              "      <td>3704381e2e76259</td>\n",
              "      <td>e3ef47df3f</td>\n",
              "      <td>1b5540c02d</td>\n",
              "      <td>BOUAKE</td>\n",
              "      <td>In Service</td>\n",
              "      <td>INTERIEUR</td>\n",
              "      <td>Grand-NORD</td>\n",
              "      <td>ZONE A - Grand-NORD</td>\n",
              "      <td>-5.027139</td>\n",
              "      <td>7.718417</td>\n",
              "      <td>VALLEE DU BANDAMA</td>\n",
              "      <td>CENTRE NORTH</td>\n",
              "      <td>24ccdda3d5</td>\n",
              "      <td>1b5540c02d</td>\n",
              "    </tr>\n",
              "    <tr>\n",
              "      <th>3</th>\n",
              "      <td>Voice</td>\n",
              "      <td>16</td>\n",
              "      <td>2012-05-07 00:00:21.0</td>\n",
              "      <td>2313f147b4452d5</td>\n",
              "      <td>4e4bb5a13d08fb9</td>\n",
              "      <td>e3ef47df3f</td>\n",
              "      <td>1b5540c02d</td>\n",
              "      <td>BOUAKE</td>\n",
              "      <td>In Service</td>\n",
              "      <td>INTERIEUR</td>\n",
              "      <td>Grand-NORD</td>\n",
              "      <td>ZONE A - Grand-NORD</td>\n",
              "      <td>-5.027139</td>\n",
              "      <td>7.718417</td>\n",
              "      <td>VALLEE DU BANDAMA</td>\n",
              "      <td>CENTRE NORTH</td>\n",
              "      <td>24ccdda3d5</td>\n",
              "      <td>1b5540c02d</td>\n",
              "    </tr>\n",
              "    <tr>\n",
              "      <th>4</th>\n",
              "      <td>Voice</td>\n",
              "      <td>35</td>\n",
              "      <td>2012-05-07 00:00:41.0</td>\n",
              "      <td>f7c3a56c793594a</td>\n",
              "      <td>b738d6d953faa78</td>\n",
              "      <td>5d9dc897f7</td>\n",
              "      <td>1b5540c02d</td>\n",
              "      <td>BOUAKE</td>\n",
              "      <td>In Service</td>\n",
              "      <td>INTERIEUR</td>\n",
              "      <td>Grand-NORD</td>\n",
              "      <td>ZONE A - Grand-NORD</td>\n",
              "      <td>-5.027139</td>\n",
              "      <td>7.718417</td>\n",
              "      <td>VALLEE DU BANDAMA</td>\n",
              "      <td>CENTRE NORTH</td>\n",
              "      <td>24ccdda3d5</td>\n",
              "      <td>1b5540c02d</td>\n",
              "    </tr>\n",
              "    <tr>\n",
              "      <th>...</th>\n",
              "      <td>...</td>\n",
              "      <td>...</td>\n",
              "      <td>...</td>\n",
              "      <td>...</td>\n",
              "      <td>...</td>\n",
              "      <td>...</td>\n",
              "      <td>...</td>\n",
              "      <td>...</td>\n",
              "      <td>...</td>\n",
              "      <td>...</td>\n",
              "      <td>...</td>\n",
              "      <td>...</td>\n",
              "      <td>...</td>\n",
              "      <td>...</td>\n",
              "      <td>...</td>\n",
              "      <td>...</td>\n",
              "      <td>...</td>\n",
              "      <td>...</td>\n",
              "    </tr>\n",
              "    <tr>\n",
              "      <th>5701056</th>\n",
              "      <td>Voice</td>\n",
              "      <td>0</td>\n",
              "      <td>2012-05-09 00:01:27.0</td>\n",
              "      <td>0f9c90a6ee44083</td>\n",
              "      <td>1a49f8b0ded9de6</td>\n",
              "      <td>f9640a19ed</td>\n",
              "      <td>8cc89f3fa9</td>\n",
              "      <td>PAKAOUBO</td>\n",
              "      <td>In Service</td>\n",
              "      <td>INTERIEUR</td>\n",
              "      <td>Grand-NORD</td>\n",
              "      <td>ZONE A - Grand-NORD</td>\n",
              "      <td>-5.786194</td>\n",
              "      <td>7.170250</td>\n",
              "      <td>MARAHOUE</td>\n",
              "      <td>CENTRE NORTH</td>\n",
              "      <td>ddaa93f2e4</td>\n",
              "      <td>8cc89f3fa9</td>\n",
              "    </tr>\n",
              "    <tr>\n",
              "      <th>5701057</th>\n",
              "      <td>sms</td>\n",
              "      <td>0</td>\n",
              "      <td>2012-05-09 00:01:42.0</td>\n",
              "      <td>dd953c2ab18c1b7</td>\n",
              "      <td>4b30ffe72e8a405</td>\n",
              "      <td>9407858a4c</td>\n",
              "      <td>d236ec6ca8</td>\n",
              "      <td>TIAPOUM</td>\n",
              "      <td>In Service</td>\n",
              "      <td>INTERIEUR</td>\n",
              "      <td>Grand-EST</td>\n",
              "      <td>ZONE C - Grand-EST</td>\n",
              "      <td>-3.020500</td>\n",
              "      <td>5.138750</td>\n",
              "      <td>SUD COMOE</td>\n",
              "      <td>ABIDJAN SOUTH</td>\n",
              "      <td>945c1dd777</td>\n",
              "      <td>d236ec6ca8</td>\n",
              "    </tr>\n",
              "    <tr>\n",
              "      <th>5701058</th>\n",
              "      <td>Voice</td>\n",
              "      <td>47</td>\n",
              "      <td>2012-05-09 00:01:42.0</td>\n",
              "      <td>144d260d1961913</td>\n",
              "      <td>fc15d238a9d904f</td>\n",
              "      <td>99b81a5dd0</td>\n",
              "      <td>aa59cc7ced</td>\n",
              "      <td>BLANFLA</td>\n",
              "      <td>In Service</td>\n",
              "      <td>INTERIEUR</td>\n",
              "      <td>Grand-SUD</td>\n",
              "      <td>ZONE B - Grand-SUD</td>\n",
              "      <td>-5.772972</td>\n",
              "      <td>6.843278</td>\n",
              "      <td>MARAHOUE</td>\n",
              "      <td>CENTRE NORTH</td>\n",
              "      <td>8af3936d2c</td>\n",
              "      <td>aa59cc7ced</td>\n",
              "    </tr>\n",
              "    <tr>\n",
              "      <th>5701059</th>\n",
              "      <td>Voice</td>\n",
              "      <td>17</td>\n",
              "      <td>2012-05-09 00:01:42.0</td>\n",
              "      <td>22e493a92442b73</td>\n",
              "      <td>c9e2c9c2fa3795a</td>\n",
              "      <td>2f50f4a1fb</td>\n",
              "      <td>cc45940406</td>\n",
              "      <td>ADJAME</td>\n",
              "      <td>In Service</td>\n",
              "      <td>ABIDJAN</td>\n",
              "      <td>Abidjan_CENTRE</td>\n",
              "      <td>ZONE B - Abidjan_CENTRE</td>\n",
              "      <td>-4.023247</td>\n",
              "      <td>5.349442</td>\n",
              "      <td>LAGUNE</td>\n",
              "      <td>ABIDJAN NORTH</td>\n",
              "      <td>c179f33d5e</td>\n",
              "      <td>cc45940406</td>\n",
              "    </tr>\n",
              "    <tr>\n",
              "      <th>5701060</th>\n",
              "      <td>sms</td>\n",
              "      <td>0</td>\n",
              "      <td>2012-05-09 00:01:43.0</td>\n",
              "      <td>32e2e7c90a9b0e9</td>\n",
              "      <td>32e2e7c90a9b0e9</td>\n",
              "      <td>25c671778e</td>\n",
              "      <td>ab91f5b21d</td>\n",
              "      <td>DIABO</td>\n",
              "      <td>In Service</td>\n",
              "      <td>INTERIEUR</td>\n",
              "      <td>Grand-NORD</td>\n",
              "      <td>ZONE A - Grand-NORD</td>\n",
              "      <td>-5.171778</td>\n",
              "      <td>7.777056</td>\n",
              "      <td>VALLEE DU BANDAMA</td>\n",
              "      <td>CENTRE NORTH</td>\n",
              "      <td>0427a26d34</td>\n",
              "      <td>ab91f5b21d</td>\n",
              "    </tr>\n",
              "  </tbody>\n",
              "</table>\n",
              "<p>5701061 rows × 18 columns</p>\n",
              "</div>"
            ],
            "text/plain": [
              "        PRODUCT  VALUE  ...   CELL_ID_y   SITE_CODE\n",
              "0           sms      0  ...  24ccdda3d5  1b5540c02d\n",
              "1         Voice     92  ...  24ccdda3d5  1b5540c02d\n",
              "2           sms     25  ...  24ccdda3d5  1b5540c02d\n",
              "3         Voice     16  ...  24ccdda3d5  1b5540c02d\n",
              "4         Voice     35  ...  24ccdda3d5  1b5540c02d\n",
              "...         ...    ...  ...         ...         ...\n",
              "5701056   Voice      0  ...  ddaa93f2e4  8cc89f3fa9\n",
              "5701057     sms      0  ...  945c1dd777  d236ec6ca8\n",
              "5701058   Voice     47  ...  8af3936d2c  aa59cc7ced\n",
              "5701059   Voice     17  ...  c179f33d5e  cc45940406\n",
              "5701060     sms      0  ...  0427a26d34  ab91f5b21d\n",
              "\n",
              "[5701061 rows x 18 columns]"
            ]
          },
          "metadata": {
            "tags": []
          },
          "execution_count": 491
        }
      ]
    },
    {
      "cell_type": "markdown",
      "metadata": {
        "id": "ElYbL5OH-dpX",
        "colab_type": "text"
      },
      "source": [
        "# Analysis"
      ]
    },
    {
      "cell_type": "code",
      "metadata": {
        "id": "CcgWSSD6-f-Y",
        "colab_type": "code",
        "colab": {}
      },
      "source": [
        "tel_geo['DATE_TIME'] = pd.to_datetime(tel_geo['DATE_TIME'])\n"
      ],
      "execution_count": 522,
      "outputs": []
    },
    {
      "cell_type": "code",
      "metadata": {
        "id": "oB7rpv_y-ijV",
        "colab_type": "code",
        "colab": {
          "base_uri": "https://localhost:8080/",
          "height": 34
        },
        "outputId": "d137a430-5dc1-4efd-a17a-94fb334c4245"
      },
      "source": [
        "tel_geo['DATE_TIME']\n",
        "tel_geo.shape"
      ],
      "execution_count": 526,
      "outputs": [
        {
          "output_type": "execute_result",
          "data": {
            "text/plain": [
              "(5701061, 20)"
            ]
          },
          "metadata": {
            "tags": []
          },
          "execution_count": 526
        }
      ]
    },
    {
      "cell_type": "code",
      "metadata": {
        "id": "QRHeT_vip03k",
        "colab_type": "code",
        "colab": {
          "base_uri": "https://localhost:8080/",
          "height": 35
        },
        "outputId": "051c1c2b-17d0-46f4-d8bc-cd977f6e5201"
      },
      "source": [
        "# most used city for the three days\n",
        "tel_geo.VILLES.max()"
      ],
      "execution_count": 524,
      "outputs": [
        {
          "output_type": "execute_result",
          "data": {
            "application/vnd.google.colaboratory.intrinsic+json": {
              "type": "string"
            },
            "text/plain": [
              "'ZUENOULA'"
            ]
          },
          "metadata": {
            "tags": []
          },
          "execution_count": 524
        }
      ]
    },
    {
      "cell_type": "code",
      "metadata": {
        "id": "BlyZG2cbyKUa",
        "colab_type": "code",
        "colab": {
          "base_uri": "https://localhost:8080/",
          "height": 609
        },
        "outputId": "ef84fe83-427d-413b-a508-b072207b4f7e"
      },
      "source": [
        "tel_geo['DATE_TIME'] = pd.to_datetime((tel_geo['DATE_TIME']))\n",
        "# tel_geo = pd.DataFrame(x, columns=['DATE_TIME'])\n",
        "tel_geo.DATE_TIME = pd.to_datetime(tel_geo.DATE_TIME)\n",
        "tel_geo\n"
      ],
      "execution_count": 525,
      "outputs": [
        {
          "output_type": "execute_result",
          "data": {
            "text/html": [
              "<div>\n",
              "<style scoped>\n",
              "    .dataframe tbody tr th:only-of-type {\n",
              "        vertical-align: middle;\n",
              "    }\n",
              "\n",
              "    .dataframe tbody tr th {\n",
              "        vertical-align: top;\n",
              "    }\n",
              "\n",
              "    .dataframe thead th {\n",
              "        text-align: right;\n",
              "    }\n",
              "</style>\n",
              "<table border=\"1\" class=\"dataframe\">\n",
              "  <thead>\n",
              "    <tr style=\"text-align: right;\">\n",
              "      <th></th>\n",
              "      <th>PRODUCT</th>\n",
              "      <th>VALUE</th>\n",
              "      <th>DATE_TIME</th>\n",
              "      <th>DW_A_NUMBER_INT</th>\n",
              "      <th>DW_B_NUMBER_INT</th>\n",
              "      <th>CELL_ID_x</th>\n",
              "      <th>SITE_ID</th>\n",
              "      <th>VILLES</th>\n",
              "      <th>STATUS</th>\n",
              "      <th>LOCALISATION</th>\n",
              "      <th>DECOUPZONE</th>\n",
              "      <th>ZONENAME</th>\n",
              "      <th>LONGITUDE</th>\n",
              "      <th>LATITUDE</th>\n",
              "      <th>REGION</th>\n",
              "      <th>AREA</th>\n",
              "      <th>CELL_ID_y</th>\n",
              "      <th>SITE_CODE</th>\n",
              "      <th>DATE</th>\n",
              "      <th>TIME</th>\n",
              "    </tr>\n",
              "  </thead>\n",
              "  <tbody>\n",
              "    <tr>\n",
              "      <th>0</th>\n",
              "      <td>sms</td>\n",
              "      <td>0</td>\n",
              "      <td>2012-05-07 00:00:00</td>\n",
              "      <td>8118c3aa53d6c7b</td>\n",
              "      <td>1d103ea638ad1f0</td>\n",
              "      <td>5d9dc897f7</td>\n",
              "      <td>1b5540c02d</td>\n",
              "      <td>BOUAKE</td>\n",
              "      <td>In Service</td>\n",
              "      <td>INTERIEUR</td>\n",
              "      <td>Grand-NORD</td>\n",
              "      <td>ZONE A - Grand-NORD</td>\n",
              "      <td>-5.027139</td>\n",
              "      <td>7.718417</td>\n",
              "      <td>VALLEE DU BANDAMA</td>\n",
              "      <td>CENTRE NORTH</td>\n",
              "      <td>24ccdda3d5</td>\n",
              "      <td>1b5540c02d</td>\n",
              "      <td>2012-05-07</td>\n",
              "      <td>00:00:00</td>\n",
              "    </tr>\n",
              "    <tr>\n",
              "      <th>1</th>\n",
              "      <td>Voice</td>\n",
              "      <td>92</td>\n",
              "      <td>2012-05-07 00:00:06</td>\n",
              "      <td>ada82842ff7cf09</td>\n",
              "      <td>d35102ff14c13b2</td>\n",
              "      <td>1e798cb0dc</td>\n",
              "      <td>1b5540c02d</td>\n",
              "      <td>BOUAKE</td>\n",
              "      <td>In Service</td>\n",
              "      <td>INTERIEUR</td>\n",
              "      <td>Grand-NORD</td>\n",
              "      <td>ZONE A - Grand-NORD</td>\n",
              "      <td>-5.027139</td>\n",
              "      <td>7.718417</td>\n",
              "      <td>VALLEE DU BANDAMA</td>\n",
              "      <td>CENTRE NORTH</td>\n",
              "      <td>24ccdda3d5</td>\n",
              "      <td>1b5540c02d</td>\n",
              "      <td>2012-05-07</td>\n",
              "      <td>00:00:06</td>\n",
              "    </tr>\n",
              "    <tr>\n",
              "      <th>2</th>\n",
              "      <td>sms</td>\n",
              "      <td>25</td>\n",
              "      <td>2012-05-07 00:00:21</td>\n",
              "      <td>74189e127808747</td>\n",
              "      <td>3704381e2e76259</td>\n",
              "      <td>e3ef47df3f</td>\n",
              "      <td>1b5540c02d</td>\n",
              "      <td>BOUAKE</td>\n",
              "      <td>In Service</td>\n",
              "      <td>INTERIEUR</td>\n",
              "      <td>Grand-NORD</td>\n",
              "      <td>ZONE A - Grand-NORD</td>\n",
              "      <td>-5.027139</td>\n",
              "      <td>7.718417</td>\n",
              "      <td>VALLEE DU BANDAMA</td>\n",
              "      <td>CENTRE NORTH</td>\n",
              "      <td>24ccdda3d5</td>\n",
              "      <td>1b5540c02d</td>\n",
              "      <td>2012-05-07</td>\n",
              "      <td>00:00:21</td>\n",
              "    </tr>\n",
              "    <tr>\n",
              "      <th>3</th>\n",
              "      <td>Voice</td>\n",
              "      <td>16</td>\n",
              "      <td>2012-05-07 00:00:21</td>\n",
              "      <td>2313f147b4452d5</td>\n",
              "      <td>4e4bb5a13d08fb9</td>\n",
              "      <td>e3ef47df3f</td>\n",
              "      <td>1b5540c02d</td>\n",
              "      <td>BOUAKE</td>\n",
              "      <td>In Service</td>\n",
              "      <td>INTERIEUR</td>\n",
              "      <td>Grand-NORD</td>\n",
              "      <td>ZONE A - Grand-NORD</td>\n",
              "      <td>-5.027139</td>\n",
              "      <td>7.718417</td>\n",
              "      <td>VALLEE DU BANDAMA</td>\n",
              "      <td>CENTRE NORTH</td>\n",
              "      <td>24ccdda3d5</td>\n",
              "      <td>1b5540c02d</td>\n",
              "      <td>2012-05-07</td>\n",
              "      <td>00:00:21</td>\n",
              "    </tr>\n",
              "    <tr>\n",
              "      <th>4</th>\n",
              "      <td>Voice</td>\n",
              "      <td>35</td>\n",
              "      <td>2012-05-07 00:00:41</td>\n",
              "      <td>f7c3a56c793594a</td>\n",
              "      <td>b738d6d953faa78</td>\n",
              "      <td>5d9dc897f7</td>\n",
              "      <td>1b5540c02d</td>\n",
              "      <td>BOUAKE</td>\n",
              "      <td>In Service</td>\n",
              "      <td>INTERIEUR</td>\n",
              "      <td>Grand-NORD</td>\n",
              "      <td>ZONE A - Grand-NORD</td>\n",
              "      <td>-5.027139</td>\n",
              "      <td>7.718417</td>\n",
              "      <td>VALLEE DU BANDAMA</td>\n",
              "      <td>CENTRE NORTH</td>\n",
              "      <td>24ccdda3d5</td>\n",
              "      <td>1b5540c02d</td>\n",
              "      <td>2012-05-07</td>\n",
              "      <td>00:00:41</td>\n",
              "    </tr>\n",
              "    <tr>\n",
              "      <th>...</th>\n",
              "      <td>...</td>\n",
              "      <td>...</td>\n",
              "      <td>...</td>\n",
              "      <td>...</td>\n",
              "      <td>...</td>\n",
              "      <td>...</td>\n",
              "      <td>...</td>\n",
              "      <td>...</td>\n",
              "      <td>...</td>\n",
              "      <td>...</td>\n",
              "      <td>...</td>\n",
              "      <td>...</td>\n",
              "      <td>...</td>\n",
              "      <td>...</td>\n",
              "      <td>...</td>\n",
              "      <td>...</td>\n",
              "      <td>...</td>\n",
              "      <td>...</td>\n",
              "      <td>...</td>\n",
              "      <td>...</td>\n",
              "    </tr>\n",
              "    <tr>\n",
              "      <th>5701056</th>\n",
              "      <td>Voice</td>\n",
              "      <td>0</td>\n",
              "      <td>2012-05-09 00:01:27</td>\n",
              "      <td>0f9c90a6ee44083</td>\n",
              "      <td>1a49f8b0ded9de6</td>\n",
              "      <td>f9640a19ed</td>\n",
              "      <td>8cc89f3fa9</td>\n",
              "      <td>PAKAOUBO</td>\n",
              "      <td>In Service</td>\n",
              "      <td>INTERIEUR</td>\n",
              "      <td>Grand-NORD</td>\n",
              "      <td>ZONE A - Grand-NORD</td>\n",
              "      <td>-5.786194</td>\n",
              "      <td>7.170250</td>\n",
              "      <td>MARAHOUE</td>\n",
              "      <td>CENTRE NORTH</td>\n",
              "      <td>ddaa93f2e4</td>\n",
              "      <td>8cc89f3fa9</td>\n",
              "      <td>2012-05-09</td>\n",
              "      <td>00:01:27</td>\n",
              "    </tr>\n",
              "    <tr>\n",
              "      <th>5701057</th>\n",
              "      <td>sms</td>\n",
              "      <td>0</td>\n",
              "      <td>2012-05-09 00:01:42</td>\n",
              "      <td>dd953c2ab18c1b7</td>\n",
              "      <td>4b30ffe72e8a405</td>\n",
              "      <td>9407858a4c</td>\n",
              "      <td>d236ec6ca8</td>\n",
              "      <td>TIAPOUM</td>\n",
              "      <td>In Service</td>\n",
              "      <td>INTERIEUR</td>\n",
              "      <td>Grand-EST</td>\n",
              "      <td>ZONE C - Grand-EST</td>\n",
              "      <td>-3.020500</td>\n",
              "      <td>5.138750</td>\n",
              "      <td>SUD COMOE</td>\n",
              "      <td>ABIDJAN SOUTH</td>\n",
              "      <td>945c1dd777</td>\n",
              "      <td>d236ec6ca8</td>\n",
              "      <td>2012-05-09</td>\n",
              "      <td>00:01:42</td>\n",
              "    </tr>\n",
              "    <tr>\n",
              "      <th>5701058</th>\n",
              "      <td>Voice</td>\n",
              "      <td>47</td>\n",
              "      <td>2012-05-09 00:01:42</td>\n",
              "      <td>144d260d1961913</td>\n",
              "      <td>fc15d238a9d904f</td>\n",
              "      <td>99b81a5dd0</td>\n",
              "      <td>aa59cc7ced</td>\n",
              "      <td>BLANFLA</td>\n",
              "      <td>In Service</td>\n",
              "      <td>INTERIEUR</td>\n",
              "      <td>Grand-SUD</td>\n",
              "      <td>ZONE B - Grand-SUD</td>\n",
              "      <td>-5.772972</td>\n",
              "      <td>6.843278</td>\n",
              "      <td>MARAHOUE</td>\n",
              "      <td>CENTRE NORTH</td>\n",
              "      <td>8af3936d2c</td>\n",
              "      <td>aa59cc7ced</td>\n",
              "      <td>2012-05-09</td>\n",
              "      <td>00:01:42</td>\n",
              "    </tr>\n",
              "    <tr>\n",
              "      <th>5701059</th>\n",
              "      <td>Voice</td>\n",
              "      <td>17</td>\n",
              "      <td>2012-05-09 00:01:42</td>\n",
              "      <td>22e493a92442b73</td>\n",
              "      <td>c9e2c9c2fa3795a</td>\n",
              "      <td>2f50f4a1fb</td>\n",
              "      <td>cc45940406</td>\n",
              "      <td>ADJAME</td>\n",
              "      <td>In Service</td>\n",
              "      <td>ABIDJAN</td>\n",
              "      <td>Abidjan_CENTRE</td>\n",
              "      <td>ZONE B - Abidjan_CENTRE</td>\n",
              "      <td>-4.023247</td>\n",
              "      <td>5.349442</td>\n",
              "      <td>LAGUNE</td>\n",
              "      <td>ABIDJAN NORTH</td>\n",
              "      <td>c179f33d5e</td>\n",
              "      <td>cc45940406</td>\n",
              "      <td>2012-05-09</td>\n",
              "      <td>00:01:42</td>\n",
              "    </tr>\n",
              "    <tr>\n",
              "      <th>5701060</th>\n",
              "      <td>sms</td>\n",
              "      <td>0</td>\n",
              "      <td>2012-05-09 00:01:43</td>\n",
              "      <td>32e2e7c90a9b0e9</td>\n",
              "      <td>32e2e7c90a9b0e9</td>\n",
              "      <td>25c671778e</td>\n",
              "      <td>ab91f5b21d</td>\n",
              "      <td>DIABO</td>\n",
              "      <td>In Service</td>\n",
              "      <td>INTERIEUR</td>\n",
              "      <td>Grand-NORD</td>\n",
              "      <td>ZONE A - Grand-NORD</td>\n",
              "      <td>-5.171778</td>\n",
              "      <td>7.777056</td>\n",
              "      <td>VALLEE DU BANDAMA</td>\n",
              "      <td>CENTRE NORTH</td>\n",
              "      <td>0427a26d34</td>\n",
              "      <td>ab91f5b21d</td>\n",
              "      <td>2012-05-09</td>\n",
              "      <td>00:01:43</td>\n",
              "    </tr>\n",
              "  </tbody>\n",
              "</table>\n",
              "<p>5701061 rows × 20 columns</p>\n",
              "</div>"
            ],
            "text/plain": [
              "        PRODUCT  VALUE           DATE_TIME  ...   SITE_CODE        DATE      TIME\n",
              "0           sms      0 2012-05-07 00:00:00  ...  1b5540c02d  2012-05-07  00:00:00\n",
              "1         Voice     92 2012-05-07 00:00:06  ...  1b5540c02d  2012-05-07  00:00:06\n",
              "2           sms     25 2012-05-07 00:00:21  ...  1b5540c02d  2012-05-07  00:00:21\n",
              "3         Voice     16 2012-05-07 00:00:21  ...  1b5540c02d  2012-05-07  00:00:21\n",
              "4         Voice     35 2012-05-07 00:00:41  ...  1b5540c02d  2012-05-07  00:00:41\n",
              "...         ...    ...                 ...  ...         ...         ...       ...\n",
              "5701056   Voice      0 2012-05-09 00:01:27  ...  8cc89f3fa9  2012-05-09  00:01:27\n",
              "5701057     sms      0 2012-05-09 00:01:42  ...  d236ec6ca8  2012-05-09  00:01:42\n",
              "5701058   Voice     47 2012-05-09 00:01:42  ...  aa59cc7ced  2012-05-09  00:01:42\n",
              "5701059   Voice     17 2012-05-09 00:01:42  ...  cc45940406  2012-05-09  00:01:42\n",
              "5701060     sms      0 2012-05-09 00:01:43  ...  ab91f5b21d  2012-05-09  00:01:43\n",
              "\n",
              "[5701061 rows x 20 columns]"
            ]
          },
          "metadata": {
            "tags": []
          },
          "execution_count": 525
        }
      ]
    },
    {
      "cell_type": "code",
      "metadata": {
        "id": "26auwzU10FB3",
        "colab_type": "code",
        "colab": {
          "base_uri": "https://localhost:8080/",
          "height": 68
        },
        "outputId": "6443aefa-f7ca-471b-bbfe-d5410c51a1d3"
      },
      "source": [
        "tel_geo.columns"
      ],
      "execution_count": null,
      "outputs": [
        {
          "output_type": "execute_result",
          "data": {
            "text/plain": [
              "Index(['PRODUCT', 'VALUE', 'DATA_TIME', 'DW_A_NUMBER_INT', 'DW_B_NUMBER_INT',\n",
              "       'CELL_ID', 'SITE_ID', 'DATE_TIME', 'SITE_CODE'],\n",
              "      dtype='object')"
            ]
          },
          "metadata": {
            "tags": []
          },
          "execution_count": 328
        }
      ]
    },
    {
      "cell_type": "code",
      "metadata": {
        "id": "F5lECMUP1j5-",
        "colab_type": "code",
        "colab": {
          "base_uri": "https://localhost:8080/",
          "height": 289
        },
        "outputId": "f75de94d-7eaa-4ff0-f5b4-9d3326e0b99d"
      },
      "source": [
        "tel_geo.head()"
      ],
      "execution_count": null,
      "outputs": [
        {
          "output_type": "execute_result",
          "data": {
            "text/html": [
              "<div>\n",
              "<style scoped>\n",
              "    .dataframe tbody tr th:only-of-type {\n",
              "        vertical-align: middle;\n",
              "    }\n",
              "\n",
              "    .dataframe tbody tr th {\n",
              "        vertical-align: top;\n",
              "    }\n",
              "\n",
              "    .dataframe thead th {\n",
              "        text-align: right;\n",
              "    }\n",
              "</style>\n",
              "<table border=\"1\" class=\"dataframe\">\n",
              "  <thead>\n",
              "    <tr style=\"text-align: right;\">\n",
              "      <th></th>\n",
              "      <th>PRODUCT</th>\n",
              "      <th>VALUE</th>\n",
              "      <th>DATA_TIME</th>\n",
              "      <th>DW_A_NUMBER_INT</th>\n",
              "      <th>DW_B_NUMBER_INT</th>\n",
              "      <th>CELL_ID</th>\n",
              "      <th>SITE_ID</th>\n",
              "      <th>DATE_TIME</th>\n",
              "      <th>SITE_CODE</th>\n",
              "    </tr>\n",
              "  </thead>\n",
              "  <tbody>\n",
              "    <tr>\n",
              "      <th>0</th>\n",
              "      <td>sms</td>\n",
              "      <td>0</td>\n",
              "      <td>2012-05-07 00:00:00.0</td>\n",
              "      <td>8118c3aa53d6c7b</td>\n",
              "      <td>1d103ea638ad1f0</td>\n",
              "      <td>5d9dc897f7</td>\n",
              "      <td>1b5540c02d</td>\n",
              "      <td>2012-05-07 00:00:00</td>\n",
              "      <td>1b5540c02d</td>\n",
              "    </tr>\n",
              "    <tr>\n",
              "      <th>1</th>\n",
              "      <td>Voice</td>\n",
              "      <td>92</td>\n",
              "      <td>2012-05-07 00:00:06.0</td>\n",
              "      <td>ada82842ff7cf09</td>\n",
              "      <td>d35102ff14c13b2</td>\n",
              "      <td>1e798cb0dc</td>\n",
              "      <td>1b5540c02d</td>\n",
              "      <td>2012-05-07 00:00:06</td>\n",
              "      <td>1b5540c02d</td>\n",
              "    </tr>\n",
              "    <tr>\n",
              "      <th>2</th>\n",
              "      <td>sms</td>\n",
              "      <td>25</td>\n",
              "      <td>2012-05-07 00:00:21.0</td>\n",
              "      <td>74189e127808747</td>\n",
              "      <td>3704381e2e76259</td>\n",
              "      <td>e3ef47df3f</td>\n",
              "      <td>1b5540c02d</td>\n",
              "      <td>2012-05-07 00:00:21</td>\n",
              "      <td>1b5540c02d</td>\n",
              "    </tr>\n",
              "    <tr>\n",
              "      <th>3</th>\n",
              "      <td>Voice</td>\n",
              "      <td>16</td>\n",
              "      <td>2012-05-07 00:00:21.0</td>\n",
              "      <td>2313f147b4452d5</td>\n",
              "      <td>4e4bb5a13d08fb9</td>\n",
              "      <td>e3ef47df3f</td>\n",
              "      <td>1b5540c02d</td>\n",
              "      <td>2012-05-07 00:00:21</td>\n",
              "      <td>1b5540c02d</td>\n",
              "    </tr>\n",
              "    <tr>\n",
              "      <th>4</th>\n",
              "      <td>Voice</td>\n",
              "      <td>35</td>\n",
              "      <td>2012-05-07 00:00:41.0</td>\n",
              "      <td>f7c3a56c793594a</td>\n",
              "      <td>b738d6d953faa78</td>\n",
              "      <td>5d9dc897f7</td>\n",
              "      <td>1b5540c02d</td>\n",
              "      <td>2012-05-07 00:00:41</td>\n",
              "      <td>1b5540c02d</td>\n",
              "    </tr>\n",
              "  </tbody>\n",
              "</table>\n",
              "</div>"
            ],
            "text/plain": [
              "  PRODUCT  VALUE  ...           DATE_TIME   SITE_CODE\n",
              "0     sms      0  ... 2012-05-07 00:00:00  1b5540c02d\n",
              "1   Voice     92  ... 2012-05-07 00:00:06  1b5540c02d\n",
              "2     sms     25  ... 2012-05-07 00:00:21  1b5540c02d\n",
              "3   Voice     16  ... 2012-05-07 00:00:21  1b5540c02d\n",
              "4   Voice     35  ... 2012-05-07 00:00:41  1b5540c02d\n",
              "\n",
              "[5 rows x 9 columns]"
            ]
          },
          "metadata": {
            "tags": []
          },
          "execution_count": 329
        }
      ]
    },
    {
      "cell_type": "code",
      "metadata": {
        "id": "rZsjsutH1wPF",
        "colab_type": "code",
        "colab": {
          "base_uri": "https://localhost:8080/",
          "height": 69
        },
        "outputId": "21c00024-799a-4d2d-c0db-ac79506ea31c"
      },
      "source": [
        "tel_geo[(tel_geo['DATE_TIME'] > '08:00:00') & (tel_geo['DATE_TIME'] > '17:00:00')]"
      ],
      "execution_count": 509,
      "outputs": [
        {
          "output_type": "execute_result",
          "data": {
            "text/html": [
              "<div>\n",
              "<style scoped>\n",
              "    .dataframe tbody tr th:only-of-type {\n",
              "        vertical-align: middle;\n",
              "    }\n",
              "\n",
              "    .dataframe tbody tr th {\n",
              "        vertical-align: top;\n",
              "    }\n",
              "\n",
              "    .dataframe thead th {\n",
              "        text-align: right;\n",
              "    }\n",
              "</style>\n",
              "<table border=\"1\" class=\"dataframe\">\n",
              "  <thead>\n",
              "    <tr style=\"text-align: right;\">\n",
              "      <th></th>\n",
              "      <th>PRODUCT</th>\n",
              "      <th>VALUE</th>\n",
              "      <th>DATE_TIME</th>\n",
              "      <th>DW_A_NUMBER_INT</th>\n",
              "      <th>DW_B_NUMBER_INT</th>\n",
              "      <th>CELL_ID_x</th>\n",
              "      <th>SITE_ID</th>\n",
              "      <th>VILLES</th>\n",
              "      <th>STATUS</th>\n",
              "      <th>LOCALISATION</th>\n",
              "      <th>DECOUPZONE</th>\n",
              "      <th>ZONENAME</th>\n",
              "      <th>LONGITUDE</th>\n",
              "      <th>LATITUDE</th>\n",
              "      <th>REGION</th>\n",
              "      <th>AREA</th>\n",
              "      <th>CELL_ID_y</th>\n",
              "      <th>SITE_CODE</th>\n",
              "    </tr>\n",
              "  </thead>\n",
              "  <tbody>\n",
              "  </tbody>\n",
              "</table>\n",
              "</div>"
            ],
            "text/plain": [
              "Empty DataFrame\n",
              "Columns: [PRODUCT, VALUE, DATE_TIME, DW_A_NUMBER_INT, DW_B_NUMBER_INT, CELL_ID_x, SITE_ID, VILLES, STATUS, LOCALISATION, DECOUPZONE, ZONENAME, LONGITUDE, LATITUDE, REGION, AREA, CELL_ID_y, SITE_CODE]\n",
              "Index: []"
            ]
          },
          "metadata": {
            "tags": []
          },
          "execution_count": 509
        }
      ]
    },
    {
      "cell_type": "code",
      "metadata": {
        "id": "FdpTe1ZAPo3Z",
        "colab_type": "code",
        "colab": {
          "base_uri": "https://localhost:8080/",
          "height": 609
        },
        "outputId": "cf7f00ed-9ccc-49a6-d76b-1e8580bc550a"
      },
      "source": [
        "tel_geo['DATE'] = tel_geo['DATE_TIME'].dt.date\n",
        "tel_geo['TIME'] = tel_geo['DATE_TIME'].dt.time\n",
        "tel_geo"
      ],
      "execution_count": 511,
      "outputs": [
        {
          "output_type": "execute_result",
          "data": {
            "text/html": [
              "<div>\n",
              "<style scoped>\n",
              "    .dataframe tbody tr th:only-of-type {\n",
              "        vertical-align: middle;\n",
              "    }\n",
              "\n",
              "    .dataframe tbody tr th {\n",
              "        vertical-align: top;\n",
              "    }\n",
              "\n",
              "    .dataframe thead th {\n",
              "        text-align: right;\n",
              "    }\n",
              "</style>\n",
              "<table border=\"1\" class=\"dataframe\">\n",
              "  <thead>\n",
              "    <tr style=\"text-align: right;\">\n",
              "      <th></th>\n",
              "      <th>PRODUCT</th>\n",
              "      <th>VALUE</th>\n",
              "      <th>DATE_TIME</th>\n",
              "      <th>DW_A_NUMBER_INT</th>\n",
              "      <th>DW_B_NUMBER_INT</th>\n",
              "      <th>CELL_ID_x</th>\n",
              "      <th>SITE_ID</th>\n",
              "      <th>VILLES</th>\n",
              "      <th>STATUS</th>\n",
              "      <th>LOCALISATION</th>\n",
              "      <th>DECOUPZONE</th>\n",
              "      <th>ZONENAME</th>\n",
              "      <th>LONGITUDE</th>\n",
              "      <th>LATITUDE</th>\n",
              "      <th>REGION</th>\n",
              "      <th>AREA</th>\n",
              "      <th>CELL_ID_y</th>\n",
              "      <th>SITE_CODE</th>\n",
              "      <th>DATE</th>\n",
              "      <th>TIME</th>\n",
              "    </tr>\n",
              "  </thead>\n",
              "  <tbody>\n",
              "    <tr>\n",
              "      <th>0</th>\n",
              "      <td>sms</td>\n",
              "      <td>0</td>\n",
              "      <td>2012-05-07 00:00:00</td>\n",
              "      <td>8118c3aa53d6c7b</td>\n",
              "      <td>1d103ea638ad1f0</td>\n",
              "      <td>5d9dc897f7</td>\n",
              "      <td>1b5540c02d</td>\n",
              "      <td>BOUAKE</td>\n",
              "      <td>In Service</td>\n",
              "      <td>INTERIEUR</td>\n",
              "      <td>Grand-NORD</td>\n",
              "      <td>ZONE A - Grand-NORD</td>\n",
              "      <td>-5.027139</td>\n",
              "      <td>7.718417</td>\n",
              "      <td>VALLEE DU BANDAMA</td>\n",
              "      <td>CENTRE NORTH</td>\n",
              "      <td>24ccdda3d5</td>\n",
              "      <td>1b5540c02d</td>\n",
              "      <td>2012-05-07</td>\n",
              "      <td>00:00:00</td>\n",
              "    </tr>\n",
              "    <tr>\n",
              "      <th>1</th>\n",
              "      <td>Voice</td>\n",
              "      <td>92</td>\n",
              "      <td>2012-05-07 00:00:06</td>\n",
              "      <td>ada82842ff7cf09</td>\n",
              "      <td>d35102ff14c13b2</td>\n",
              "      <td>1e798cb0dc</td>\n",
              "      <td>1b5540c02d</td>\n",
              "      <td>BOUAKE</td>\n",
              "      <td>In Service</td>\n",
              "      <td>INTERIEUR</td>\n",
              "      <td>Grand-NORD</td>\n",
              "      <td>ZONE A - Grand-NORD</td>\n",
              "      <td>-5.027139</td>\n",
              "      <td>7.718417</td>\n",
              "      <td>VALLEE DU BANDAMA</td>\n",
              "      <td>CENTRE NORTH</td>\n",
              "      <td>24ccdda3d5</td>\n",
              "      <td>1b5540c02d</td>\n",
              "      <td>2012-05-07</td>\n",
              "      <td>00:00:06</td>\n",
              "    </tr>\n",
              "    <tr>\n",
              "      <th>2</th>\n",
              "      <td>sms</td>\n",
              "      <td>25</td>\n",
              "      <td>2012-05-07 00:00:21</td>\n",
              "      <td>74189e127808747</td>\n",
              "      <td>3704381e2e76259</td>\n",
              "      <td>e3ef47df3f</td>\n",
              "      <td>1b5540c02d</td>\n",
              "      <td>BOUAKE</td>\n",
              "      <td>In Service</td>\n",
              "      <td>INTERIEUR</td>\n",
              "      <td>Grand-NORD</td>\n",
              "      <td>ZONE A - Grand-NORD</td>\n",
              "      <td>-5.027139</td>\n",
              "      <td>7.718417</td>\n",
              "      <td>VALLEE DU BANDAMA</td>\n",
              "      <td>CENTRE NORTH</td>\n",
              "      <td>24ccdda3d5</td>\n",
              "      <td>1b5540c02d</td>\n",
              "      <td>2012-05-07</td>\n",
              "      <td>00:00:21</td>\n",
              "    </tr>\n",
              "    <tr>\n",
              "      <th>3</th>\n",
              "      <td>Voice</td>\n",
              "      <td>16</td>\n",
              "      <td>2012-05-07 00:00:21</td>\n",
              "      <td>2313f147b4452d5</td>\n",
              "      <td>4e4bb5a13d08fb9</td>\n",
              "      <td>e3ef47df3f</td>\n",
              "      <td>1b5540c02d</td>\n",
              "      <td>BOUAKE</td>\n",
              "      <td>In Service</td>\n",
              "      <td>INTERIEUR</td>\n",
              "      <td>Grand-NORD</td>\n",
              "      <td>ZONE A - Grand-NORD</td>\n",
              "      <td>-5.027139</td>\n",
              "      <td>7.718417</td>\n",
              "      <td>VALLEE DU BANDAMA</td>\n",
              "      <td>CENTRE NORTH</td>\n",
              "      <td>24ccdda3d5</td>\n",
              "      <td>1b5540c02d</td>\n",
              "      <td>2012-05-07</td>\n",
              "      <td>00:00:21</td>\n",
              "    </tr>\n",
              "    <tr>\n",
              "      <th>4</th>\n",
              "      <td>Voice</td>\n",
              "      <td>35</td>\n",
              "      <td>2012-05-07 00:00:41</td>\n",
              "      <td>f7c3a56c793594a</td>\n",
              "      <td>b738d6d953faa78</td>\n",
              "      <td>5d9dc897f7</td>\n",
              "      <td>1b5540c02d</td>\n",
              "      <td>BOUAKE</td>\n",
              "      <td>In Service</td>\n",
              "      <td>INTERIEUR</td>\n",
              "      <td>Grand-NORD</td>\n",
              "      <td>ZONE A - Grand-NORD</td>\n",
              "      <td>-5.027139</td>\n",
              "      <td>7.718417</td>\n",
              "      <td>VALLEE DU BANDAMA</td>\n",
              "      <td>CENTRE NORTH</td>\n",
              "      <td>24ccdda3d5</td>\n",
              "      <td>1b5540c02d</td>\n",
              "      <td>2012-05-07</td>\n",
              "      <td>00:00:41</td>\n",
              "    </tr>\n",
              "    <tr>\n",
              "      <th>...</th>\n",
              "      <td>...</td>\n",
              "      <td>...</td>\n",
              "      <td>...</td>\n",
              "      <td>...</td>\n",
              "      <td>...</td>\n",
              "      <td>...</td>\n",
              "      <td>...</td>\n",
              "      <td>...</td>\n",
              "      <td>...</td>\n",
              "      <td>...</td>\n",
              "      <td>...</td>\n",
              "      <td>...</td>\n",
              "      <td>...</td>\n",
              "      <td>...</td>\n",
              "      <td>...</td>\n",
              "      <td>...</td>\n",
              "      <td>...</td>\n",
              "      <td>...</td>\n",
              "      <td>...</td>\n",
              "      <td>...</td>\n",
              "    </tr>\n",
              "    <tr>\n",
              "      <th>5701056</th>\n",
              "      <td>Voice</td>\n",
              "      <td>0</td>\n",
              "      <td>2012-05-09 00:01:27</td>\n",
              "      <td>0f9c90a6ee44083</td>\n",
              "      <td>1a49f8b0ded9de6</td>\n",
              "      <td>f9640a19ed</td>\n",
              "      <td>8cc89f3fa9</td>\n",
              "      <td>PAKAOUBO</td>\n",
              "      <td>In Service</td>\n",
              "      <td>INTERIEUR</td>\n",
              "      <td>Grand-NORD</td>\n",
              "      <td>ZONE A - Grand-NORD</td>\n",
              "      <td>-5.786194</td>\n",
              "      <td>7.170250</td>\n",
              "      <td>MARAHOUE</td>\n",
              "      <td>CENTRE NORTH</td>\n",
              "      <td>ddaa93f2e4</td>\n",
              "      <td>8cc89f3fa9</td>\n",
              "      <td>2012-05-09</td>\n",
              "      <td>00:01:27</td>\n",
              "    </tr>\n",
              "    <tr>\n",
              "      <th>5701057</th>\n",
              "      <td>sms</td>\n",
              "      <td>0</td>\n",
              "      <td>2012-05-09 00:01:42</td>\n",
              "      <td>dd953c2ab18c1b7</td>\n",
              "      <td>4b30ffe72e8a405</td>\n",
              "      <td>9407858a4c</td>\n",
              "      <td>d236ec6ca8</td>\n",
              "      <td>TIAPOUM</td>\n",
              "      <td>In Service</td>\n",
              "      <td>INTERIEUR</td>\n",
              "      <td>Grand-EST</td>\n",
              "      <td>ZONE C - Grand-EST</td>\n",
              "      <td>-3.020500</td>\n",
              "      <td>5.138750</td>\n",
              "      <td>SUD COMOE</td>\n",
              "      <td>ABIDJAN SOUTH</td>\n",
              "      <td>945c1dd777</td>\n",
              "      <td>d236ec6ca8</td>\n",
              "      <td>2012-05-09</td>\n",
              "      <td>00:01:42</td>\n",
              "    </tr>\n",
              "    <tr>\n",
              "      <th>5701058</th>\n",
              "      <td>Voice</td>\n",
              "      <td>47</td>\n",
              "      <td>2012-05-09 00:01:42</td>\n",
              "      <td>144d260d1961913</td>\n",
              "      <td>fc15d238a9d904f</td>\n",
              "      <td>99b81a5dd0</td>\n",
              "      <td>aa59cc7ced</td>\n",
              "      <td>BLANFLA</td>\n",
              "      <td>In Service</td>\n",
              "      <td>INTERIEUR</td>\n",
              "      <td>Grand-SUD</td>\n",
              "      <td>ZONE B - Grand-SUD</td>\n",
              "      <td>-5.772972</td>\n",
              "      <td>6.843278</td>\n",
              "      <td>MARAHOUE</td>\n",
              "      <td>CENTRE NORTH</td>\n",
              "      <td>8af3936d2c</td>\n",
              "      <td>aa59cc7ced</td>\n",
              "      <td>2012-05-09</td>\n",
              "      <td>00:01:42</td>\n",
              "    </tr>\n",
              "    <tr>\n",
              "      <th>5701059</th>\n",
              "      <td>Voice</td>\n",
              "      <td>17</td>\n",
              "      <td>2012-05-09 00:01:42</td>\n",
              "      <td>22e493a92442b73</td>\n",
              "      <td>c9e2c9c2fa3795a</td>\n",
              "      <td>2f50f4a1fb</td>\n",
              "      <td>cc45940406</td>\n",
              "      <td>ADJAME</td>\n",
              "      <td>In Service</td>\n",
              "      <td>ABIDJAN</td>\n",
              "      <td>Abidjan_CENTRE</td>\n",
              "      <td>ZONE B - Abidjan_CENTRE</td>\n",
              "      <td>-4.023247</td>\n",
              "      <td>5.349442</td>\n",
              "      <td>LAGUNE</td>\n",
              "      <td>ABIDJAN NORTH</td>\n",
              "      <td>c179f33d5e</td>\n",
              "      <td>cc45940406</td>\n",
              "      <td>2012-05-09</td>\n",
              "      <td>00:01:42</td>\n",
              "    </tr>\n",
              "    <tr>\n",
              "      <th>5701060</th>\n",
              "      <td>sms</td>\n",
              "      <td>0</td>\n",
              "      <td>2012-05-09 00:01:43</td>\n",
              "      <td>32e2e7c90a9b0e9</td>\n",
              "      <td>32e2e7c90a9b0e9</td>\n",
              "      <td>25c671778e</td>\n",
              "      <td>ab91f5b21d</td>\n",
              "      <td>DIABO</td>\n",
              "      <td>In Service</td>\n",
              "      <td>INTERIEUR</td>\n",
              "      <td>Grand-NORD</td>\n",
              "      <td>ZONE A - Grand-NORD</td>\n",
              "      <td>-5.171778</td>\n",
              "      <td>7.777056</td>\n",
              "      <td>VALLEE DU BANDAMA</td>\n",
              "      <td>CENTRE NORTH</td>\n",
              "      <td>0427a26d34</td>\n",
              "      <td>ab91f5b21d</td>\n",
              "      <td>2012-05-09</td>\n",
              "      <td>00:01:43</td>\n",
              "    </tr>\n",
              "  </tbody>\n",
              "</table>\n",
              "<p>5701061 rows × 20 columns</p>\n",
              "</div>"
            ],
            "text/plain": [
              "        PRODUCT  VALUE           DATE_TIME  ...   SITE_CODE        DATE      TIME\n",
              "0           sms      0 2012-05-07 00:00:00  ...  1b5540c02d  2012-05-07  00:00:00\n",
              "1         Voice     92 2012-05-07 00:00:06  ...  1b5540c02d  2012-05-07  00:00:06\n",
              "2           sms     25 2012-05-07 00:00:21  ...  1b5540c02d  2012-05-07  00:00:21\n",
              "3         Voice     16 2012-05-07 00:00:21  ...  1b5540c02d  2012-05-07  00:00:21\n",
              "4         Voice     35 2012-05-07 00:00:41  ...  1b5540c02d  2012-05-07  00:00:41\n",
              "...         ...    ...                 ...  ...         ...         ...       ...\n",
              "5701056   Voice      0 2012-05-09 00:01:27  ...  8cc89f3fa9  2012-05-09  00:01:27\n",
              "5701057     sms      0 2012-05-09 00:01:42  ...  d236ec6ca8  2012-05-09  00:01:42\n",
              "5701058   Voice     47 2012-05-09 00:01:42  ...  aa59cc7ced  2012-05-09  00:01:42\n",
              "5701059   Voice     17 2012-05-09 00:01:42  ...  cc45940406  2012-05-09  00:01:42\n",
              "5701060     sms      0 2012-05-09 00:01:43  ...  ab91f5b21d  2012-05-09  00:01:43\n",
              "\n",
              "[5701061 rows x 20 columns]"
            ]
          },
          "metadata": {
            "tags": []
          },
          "execution_count": 511
        }
      ]
    },
    {
      "cell_type": "code",
      "metadata": {
        "id": "5WE-lvfCQanP",
        "colab_type": "code",
        "colab": {
          "base_uri": "https://localhost:8080/",
          "height": 69
        },
        "outputId": "50243342-5a8a-4283-d969-82bdfab789d2"
      },
      "source": [
        "# Buisness hour\n",
        "tel_geo['TIME'] = tel_geo.TIME.astype(str)\n",
        "a = tel_geo[tel_geo['TIME'] > '17:00:00.0']\n",
        "b = tel_geo[tel_geo['TIME'] < '08:00:00.0']\n",
        "tel_geo[(tel_geo['TIME'] > '08:00:00.0') & (tel_geo['TIME'] < '17:00:00.0')]"
      ],
      "execution_count": 535,
      "outputs": [
        {
          "output_type": "execute_result",
          "data": {
            "text/html": [
              "<div>\n",
              "<style scoped>\n",
              "    .dataframe tbody tr th:only-of-type {\n",
              "        vertical-align: middle;\n",
              "    }\n",
              "\n",
              "    .dataframe tbody tr th {\n",
              "        vertical-align: top;\n",
              "    }\n",
              "\n",
              "    .dataframe thead th {\n",
              "        text-align: right;\n",
              "    }\n",
              "</style>\n",
              "<table border=\"1\" class=\"dataframe\">\n",
              "  <thead>\n",
              "    <tr style=\"text-align: right;\">\n",
              "      <th></th>\n",
              "      <th>PRODUCT</th>\n",
              "      <th>VALUE</th>\n",
              "      <th>DATE_TIME</th>\n",
              "      <th>DW_A_NUMBER_INT</th>\n",
              "      <th>DW_B_NUMBER_INT</th>\n",
              "      <th>CELL_ID_x</th>\n",
              "      <th>SITE_ID</th>\n",
              "      <th>VILLES</th>\n",
              "      <th>STATUS</th>\n",
              "      <th>LOCALISATION</th>\n",
              "      <th>DECOUPZONE</th>\n",
              "      <th>ZONENAME</th>\n",
              "      <th>LONGITUDE</th>\n",
              "      <th>LATITUDE</th>\n",
              "      <th>REGION</th>\n",
              "      <th>AREA</th>\n",
              "      <th>CELL_ID_y</th>\n",
              "      <th>SITE_CODE</th>\n",
              "      <th>DATE</th>\n",
              "      <th>TIME</th>\n",
              "    </tr>\n",
              "  </thead>\n",
              "  <tbody>\n",
              "  </tbody>\n",
              "</table>\n",
              "</div>"
            ],
            "text/plain": [
              "Empty DataFrame\n",
              "Columns: [PRODUCT, VALUE, DATE_TIME, DW_A_NUMBER_INT, DW_B_NUMBER_INT, CELL_ID_x, SITE_ID, VILLES, STATUS, LOCALISATION, DECOUPZONE, ZONENAME, LONGITUDE, LATITUDE, REGION, AREA, CELL_ID_y, SITE_CODE, DATE, TIME]\n",
              "Index: []"
            ]
          },
          "metadata": {
            "tags": []
          },
          "execution_count": 535
        }
      ]
    },
    {
      "cell_type": "code",
      "metadata": {
        "id": "HS-EQL46T73C",
        "colab_type": "code",
        "colab": {
          "base_uri": "https://localhost:8080/",
          "height": 609
        },
        "outputId": "d772d528-77f8-4901-b6ed-26235425b9b0"
      },
      "source": [
        "# Home hours\n",
        "tel_geo[(tel_geo['TIME'] < '08:00:00.0') & (tel_geo['TIME'] < '17:00:00.0')]"
      ],
      "execution_count": 537,
      "outputs": [
        {
          "output_type": "execute_result",
          "data": {
            "text/html": [
              "<div>\n",
              "<style scoped>\n",
              "    .dataframe tbody tr th:only-of-type {\n",
              "        vertical-align: middle;\n",
              "    }\n",
              "\n",
              "    .dataframe tbody tr th {\n",
              "        vertical-align: top;\n",
              "    }\n",
              "\n",
              "    .dataframe thead th {\n",
              "        text-align: right;\n",
              "    }\n",
              "</style>\n",
              "<table border=\"1\" class=\"dataframe\">\n",
              "  <thead>\n",
              "    <tr style=\"text-align: right;\">\n",
              "      <th></th>\n",
              "      <th>PRODUCT</th>\n",
              "      <th>VALUE</th>\n",
              "      <th>DATE_TIME</th>\n",
              "      <th>DW_A_NUMBER_INT</th>\n",
              "      <th>DW_B_NUMBER_INT</th>\n",
              "      <th>CELL_ID_x</th>\n",
              "      <th>SITE_ID</th>\n",
              "      <th>VILLES</th>\n",
              "      <th>STATUS</th>\n",
              "      <th>LOCALISATION</th>\n",
              "      <th>DECOUPZONE</th>\n",
              "      <th>ZONENAME</th>\n",
              "      <th>LONGITUDE</th>\n",
              "      <th>LATITUDE</th>\n",
              "      <th>REGION</th>\n",
              "      <th>AREA</th>\n",
              "      <th>CELL_ID_y</th>\n",
              "      <th>SITE_CODE</th>\n",
              "      <th>DATE</th>\n",
              "      <th>TIME</th>\n",
              "    </tr>\n",
              "  </thead>\n",
              "  <tbody>\n",
              "    <tr>\n",
              "      <th>0</th>\n",
              "      <td>sms</td>\n",
              "      <td>0</td>\n",
              "      <td>2012-05-07 00:00:00</td>\n",
              "      <td>8118c3aa53d6c7b</td>\n",
              "      <td>1d103ea638ad1f0</td>\n",
              "      <td>5d9dc897f7</td>\n",
              "      <td>1b5540c02d</td>\n",
              "      <td>BOUAKE</td>\n",
              "      <td>In Service</td>\n",
              "      <td>INTERIEUR</td>\n",
              "      <td>Grand-NORD</td>\n",
              "      <td>ZONE A - Grand-NORD</td>\n",
              "      <td>-5.027139</td>\n",
              "      <td>7.718417</td>\n",
              "      <td>VALLEE DU BANDAMA</td>\n",
              "      <td>CENTRE NORTH</td>\n",
              "      <td>24ccdda3d5</td>\n",
              "      <td>1b5540c02d</td>\n",
              "      <td>2012-05-07</td>\n",
              "      <td>00:00:00</td>\n",
              "    </tr>\n",
              "    <tr>\n",
              "      <th>1</th>\n",
              "      <td>Voice</td>\n",
              "      <td>92</td>\n",
              "      <td>2012-05-07 00:00:06</td>\n",
              "      <td>ada82842ff7cf09</td>\n",
              "      <td>d35102ff14c13b2</td>\n",
              "      <td>1e798cb0dc</td>\n",
              "      <td>1b5540c02d</td>\n",
              "      <td>BOUAKE</td>\n",
              "      <td>In Service</td>\n",
              "      <td>INTERIEUR</td>\n",
              "      <td>Grand-NORD</td>\n",
              "      <td>ZONE A - Grand-NORD</td>\n",
              "      <td>-5.027139</td>\n",
              "      <td>7.718417</td>\n",
              "      <td>VALLEE DU BANDAMA</td>\n",
              "      <td>CENTRE NORTH</td>\n",
              "      <td>24ccdda3d5</td>\n",
              "      <td>1b5540c02d</td>\n",
              "      <td>2012-05-07</td>\n",
              "      <td>00:00:06</td>\n",
              "    </tr>\n",
              "    <tr>\n",
              "      <th>2</th>\n",
              "      <td>sms</td>\n",
              "      <td>25</td>\n",
              "      <td>2012-05-07 00:00:21</td>\n",
              "      <td>74189e127808747</td>\n",
              "      <td>3704381e2e76259</td>\n",
              "      <td>e3ef47df3f</td>\n",
              "      <td>1b5540c02d</td>\n",
              "      <td>BOUAKE</td>\n",
              "      <td>In Service</td>\n",
              "      <td>INTERIEUR</td>\n",
              "      <td>Grand-NORD</td>\n",
              "      <td>ZONE A - Grand-NORD</td>\n",
              "      <td>-5.027139</td>\n",
              "      <td>7.718417</td>\n",
              "      <td>VALLEE DU BANDAMA</td>\n",
              "      <td>CENTRE NORTH</td>\n",
              "      <td>24ccdda3d5</td>\n",
              "      <td>1b5540c02d</td>\n",
              "      <td>2012-05-07</td>\n",
              "      <td>00:00:21</td>\n",
              "    </tr>\n",
              "    <tr>\n",
              "      <th>3</th>\n",
              "      <td>Voice</td>\n",
              "      <td>16</td>\n",
              "      <td>2012-05-07 00:00:21</td>\n",
              "      <td>2313f147b4452d5</td>\n",
              "      <td>4e4bb5a13d08fb9</td>\n",
              "      <td>e3ef47df3f</td>\n",
              "      <td>1b5540c02d</td>\n",
              "      <td>BOUAKE</td>\n",
              "      <td>In Service</td>\n",
              "      <td>INTERIEUR</td>\n",
              "      <td>Grand-NORD</td>\n",
              "      <td>ZONE A - Grand-NORD</td>\n",
              "      <td>-5.027139</td>\n",
              "      <td>7.718417</td>\n",
              "      <td>VALLEE DU BANDAMA</td>\n",
              "      <td>CENTRE NORTH</td>\n",
              "      <td>24ccdda3d5</td>\n",
              "      <td>1b5540c02d</td>\n",
              "      <td>2012-05-07</td>\n",
              "      <td>00:00:21</td>\n",
              "    </tr>\n",
              "    <tr>\n",
              "      <th>4</th>\n",
              "      <td>Voice</td>\n",
              "      <td>35</td>\n",
              "      <td>2012-05-07 00:00:41</td>\n",
              "      <td>f7c3a56c793594a</td>\n",
              "      <td>b738d6d953faa78</td>\n",
              "      <td>5d9dc897f7</td>\n",
              "      <td>1b5540c02d</td>\n",
              "      <td>BOUAKE</td>\n",
              "      <td>In Service</td>\n",
              "      <td>INTERIEUR</td>\n",
              "      <td>Grand-NORD</td>\n",
              "      <td>ZONE A - Grand-NORD</td>\n",
              "      <td>-5.027139</td>\n",
              "      <td>7.718417</td>\n",
              "      <td>VALLEE DU BANDAMA</td>\n",
              "      <td>CENTRE NORTH</td>\n",
              "      <td>24ccdda3d5</td>\n",
              "      <td>1b5540c02d</td>\n",
              "      <td>2012-05-07</td>\n",
              "      <td>00:00:41</td>\n",
              "    </tr>\n",
              "    <tr>\n",
              "      <th>...</th>\n",
              "      <td>...</td>\n",
              "      <td>...</td>\n",
              "      <td>...</td>\n",
              "      <td>...</td>\n",
              "      <td>...</td>\n",
              "      <td>...</td>\n",
              "      <td>...</td>\n",
              "      <td>...</td>\n",
              "      <td>...</td>\n",
              "      <td>...</td>\n",
              "      <td>...</td>\n",
              "      <td>...</td>\n",
              "      <td>...</td>\n",
              "      <td>...</td>\n",
              "      <td>...</td>\n",
              "      <td>...</td>\n",
              "      <td>...</td>\n",
              "      <td>...</td>\n",
              "      <td>...</td>\n",
              "      <td>...</td>\n",
              "    </tr>\n",
              "    <tr>\n",
              "      <th>5701056</th>\n",
              "      <td>Voice</td>\n",
              "      <td>0</td>\n",
              "      <td>2012-05-09 00:01:27</td>\n",
              "      <td>0f9c90a6ee44083</td>\n",
              "      <td>1a49f8b0ded9de6</td>\n",
              "      <td>f9640a19ed</td>\n",
              "      <td>8cc89f3fa9</td>\n",
              "      <td>PAKAOUBO</td>\n",
              "      <td>In Service</td>\n",
              "      <td>INTERIEUR</td>\n",
              "      <td>Grand-NORD</td>\n",
              "      <td>ZONE A - Grand-NORD</td>\n",
              "      <td>-5.786194</td>\n",
              "      <td>7.170250</td>\n",
              "      <td>MARAHOUE</td>\n",
              "      <td>CENTRE NORTH</td>\n",
              "      <td>ddaa93f2e4</td>\n",
              "      <td>8cc89f3fa9</td>\n",
              "      <td>2012-05-09</td>\n",
              "      <td>00:01:27</td>\n",
              "    </tr>\n",
              "    <tr>\n",
              "      <th>5701057</th>\n",
              "      <td>sms</td>\n",
              "      <td>0</td>\n",
              "      <td>2012-05-09 00:01:42</td>\n",
              "      <td>dd953c2ab18c1b7</td>\n",
              "      <td>4b30ffe72e8a405</td>\n",
              "      <td>9407858a4c</td>\n",
              "      <td>d236ec6ca8</td>\n",
              "      <td>TIAPOUM</td>\n",
              "      <td>In Service</td>\n",
              "      <td>INTERIEUR</td>\n",
              "      <td>Grand-EST</td>\n",
              "      <td>ZONE C - Grand-EST</td>\n",
              "      <td>-3.020500</td>\n",
              "      <td>5.138750</td>\n",
              "      <td>SUD COMOE</td>\n",
              "      <td>ABIDJAN SOUTH</td>\n",
              "      <td>945c1dd777</td>\n",
              "      <td>d236ec6ca8</td>\n",
              "      <td>2012-05-09</td>\n",
              "      <td>00:01:42</td>\n",
              "    </tr>\n",
              "    <tr>\n",
              "      <th>5701058</th>\n",
              "      <td>Voice</td>\n",
              "      <td>47</td>\n",
              "      <td>2012-05-09 00:01:42</td>\n",
              "      <td>144d260d1961913</td>\n",
              "      <td>fc15d238a9d904f</td>\n",
              "      <td>99b81a5dd0</td>\n",
              "      <td>aa59cc7ced</td>\n",
              "      <td>BLANFLA</td>\n",
              "      <td>In Service</td>\n",
              "      <td>INTERIEUR</td>\n",
              "      <td>Grand-SUD</td>\n",
              "      <td>ZONE B - Grand-SUD</td>\n",
              "      <td>-5.772972</td>\n",
              "      <td>6.843278</td>\n",
              "      <td>MARAHOUE</td>\n",
              "      <td>CENTRE NORTH</td>\n",
              "      <td>8af3936d2c</td>\n",
              "      <td>aa59cc7ced</td>\n",
              "      <td>2012-05-09</td>\n",
              "      <td>00:01:42</td>\n",
              "    </tr>\n",
              "    <tr>\n",
              "      <th>5701059</th>\n",
              "      <td>Voice</td>\n",
              "      <td>17</td>\n",
              "      <td>2012-05-09 00:01:42</td>\n",
              "      <td>22e493a92442b73</td>\n",
              "      <td>c9e2c9c2fa3795a</td>\n",
              "      <td>2f50f4a1fb</td>\n",
              "      <td>cc45940406</td>\n",
              "      <td>ADJAME</td>\n",
              "      <td>In Service</td>\n",
              "      <td>ABIDJAN</td>\n",
              "      <td>Abidjan_CENTRE</td>\n",
              "      <td>ZONE B - Abidjan_CENTRE</td>\n",
              "      <td>-4.023247</td>\n",
              "      <td>5.349442</td>\n",
              "      <td>LAGUNE</td>\n",
              "      <td>ABIDJAN NORTH</td>\n",
              "      <td>c179f33d5e</td>\n",
              "      <td>cc45940406</td>\n",
              "      <td>2012-05-09</td>\n",
              "      <td>00:01:42</td>\n",
              "    </tr>\n",
              "    <tr>\n",
              "      <th>5701060</th>\n",
              "      <td>sms</td>\n",
              "      <td>0</td>\n",
              "      <td>2012-05-09 00:01:43</td>\n",
              "      <td>32e2e7c90a9b0e9</td>\n",
              "      <td>32e2e7c90a9b0e9</td>\n",
              "      <td>25c671778e</td>\n",
              "      <td>ab91f5b21d</td>\n",
              "      <td>DIABO</td>\n",
              "      <td>In Service</td>\n",
              "      <td>INTERIEUR</td>\n",
              "      <td>Grand-NORD</td>\n",
              "      <td>ZONE A - Grand-NORD</td>\n",
              "      <td>-5.171778</td>\n",
              "      <td>7.777056</td>\n",
              "      <td>VALLEE DU BANDAMA</td>\n",
              "      <td>CENTRE NORTH</td>\n",
              "      <td>0427a26d34</td>\n",
              "      <td>ab91f5b21d</td>\n",
              "      <td>2012-05-09</td>\n",
              "      <td>00:01:43</td>\n",
              "    </tr>\n",
              "  </tbody>\n",
              "</table>\n",
              "<p>5701061 rows × 20 columns</p>\n",
              "</div>"
            ],
            "text/plain": [
              "        PRODUCT  VALUE           DATE_TIME  ...   SITE_CODE        DATE      TIME\n",
              "0           sms      0 2012-05-07 00:00:00  ...  1b5540c02d  2012-05-07  00:00:00\n",
              "1         Voice     92 2012-05-07 00:00:06  ...  1b5540c02d  2012-05-07  00:00:06\n",
              "2           sms     25 2012-05-07 00:00:21  ...  1b5540c02d  2012-05-07  00:00:21\n",
              "3         Voice     16 2012-05-07 00:00:21  ...  1b5540c02d  2012-05-07  00:00:21\n",
              "4         Voice     35 2012-05-07 00:00:41  ...  1b5540c02d  2012-05-07  00:00:41\n",
              "...         ...    ...                 ...  ...         ...         ...       ...\n",
              "5701056   Voice      0 2012-05-09 00:01:27  ...  8cc89f3fa9  2012-05-09  00:01:27\n",
              "5701057     sms      0 2012-05-09 00:01:42  ...  d236ec6ca8  2012-05-09  00:01:42\n",
              "5701058   Voice     47 2012-05-09 00:01:42  ...  aa59cc7ced  2012-05-09  00:01:42\n",
              "5701059   Voice     17 2012-05-09 00:01:42  ...  cc45940406  2012-05-09  00:01:42\n",
              "5701060     sms      0 2012-05-09 00:01:43  ...  ab91f5b21d  2012-05-09  00:01:43\n",
              "\n",
              "[5701061 rows x 20 columns]"
            ]
          },
          "metadata": {
            "tags": []
          },
          "execution_count": 537
        }
      ]
    },
    {
      "cell_type": "code",
      "metadata": {
        "id": "-52M2WbQYhMs",
        "colab_type": "code",
        "colab": {
          "base_uri": "https://localhost:8080/",
          "height": 487
        },
        "outputId": "f53eb76a-80a2-47cc-c6a7-a526e4868147"
      },
      "source": [
        "# tel_geo.VILLES.duplicated()\n",
        "tel_geo.groupby('VILLES').count()"
      ],
      "execution_count": 546,
      "outputs": [
        {
          "output_type": "execute_result",
          "data": {
            "text/html": [
              "<div>\n",
              "<style scoped>\n",
              "    .dataframe tbody tr th:only-of-type {\n",
              "        vertical-align: middle;\n",
              "    }\n",
              "\n",
              "    .dataframe tbody tr th {\n",
              "        vertical-align: top;\n",
              "    }\n",
              "\n",
              "    .dataframe thead th {\n",
              "        text-align: right;\n",
              "    }\n",
              "</style>\n",
              "<table border=\"1\" class=\"dataframe\">\n",
              "  <thead>\n",
              "    <tr style=\"text-align: right;\">\n",
              "      <th></th>\n",
              "      <th>PRODUCT</th>\n",
              "      <th>VALUE</th>\n",
              "      <th>DATE_TIME</th>\n",
              "      <th>DW_A_NUMBER_INT</th>\n",
              "      <th>DW_B_NUMBER_INT</th>\n",
              "      <th>CELL_ID_x</th>\n",
              "      <th>SITE_ID</th>\n",
              "      <th>STATUS</th>\n",
              "      <th>LOCALISATION</th>\n",
              "      <th>DECOUPZONE</th>\n",
              "      <th>ZONENAME</th>\n",
              "      <th>LONGITUDE</th>\n",
              "      <th>LATITUDE</th>\n",
              "      <th>REGION</th>\n",
              "      <th>AREA</th>\n",
              "      <th>CELL_ID_y</th>\n",
              "      <th>SITE_CODE</th>\n",
              "      <th>DATE</th>\n",
              "      <th>TIME</th>\n",
              "    </tr>\n",
              "    <tr>\n",
              "      <th>VILLES</th>\n",
              "      <th></th>\n",
              "      <th></th>\n",
              "      <th></th>\n",
              "      <th></th>\n",
              "      <th></th>\n",
              "      <th></th>\n",
              "      <th></th>\n",
              "      <th></th>\n",
              "      <th></th>\n",
              "      <th></th>\n",
              "      <th></th>\n",
              "      <th></th>\n",
              "      <th></th>\n",
              "      <th></th>\n",
              "      <th></th>\n",
              "      <th></th>\n",
              "      <th></th>\n",
              "      <th></th>\n",
              "      <th></th>\n",
              "    </tr>\n",
              "  </thead>\n",
              "  <tbody>\n",
              "    <tr>\n",
              "      <th>ABENGOUROU</th>\n",
              "      <td>31413</td>\n",
              "      <td>31413</td>\n",
              "      <td>31413</td>\n",
              "      <td>31413</td>\n",
              "      <td>31413</td>\n",
              "      <td>31413</td>\n",
              "      <td>37</td>\n",
              "      <td>31413</td>\n",
              "      <td>31413</td>\n",
              "      <td>31413</td>\n",
              "      <td>31413</td>\n",
              "      <td>31413</td>\n",
              "      <td>31413</td>\n",
              "      <td>31413</td>\n",
              "      <td>31413</td>\n",
              "      <td>31413</td>\n",
              "      <td>37</td>\n",
              "      <td>31413</td>\n",
              "      <td>31413</td>\n",
              "    </tr>\n",
              "    <tr>\n",
              "      <th>ABOBO</th>\n",
              "      <td>401163</td>\n",
              "      <td>401163</td>\n",
              "      <td>401163</td>\n",
              "      <td>401163</td>\n",
              "      <td>401163</td>\n",
              "      <td>401163</td>\n",
              "      <td>1119</td>\n",
              "      <td>391358</td>\n",
              "      <td>401163</td>\n",
              "      <td>401163</td>\n",
              "      <td>401163</td>\n",
              "      <td>401163</td>\n",
              "      <td>401163</td>\n",
              "      <td>401163</td>\n",
              "      <td>389349</td>\n",
              "      <td>401163</td>\n",
              "      <td>1119</td>\n",
              "      <td>401163</td>\n",
              "      <td>401163</td>\n",
              "    </tr>\n",
              "    <tr>\n",
              "      <th>ABOISSO</th>\n",
              "      <td>29430</td>\n",
              "      <td>29430</td>\n",
              "      <td>29430</td>\n",
              "      <td>29430</td>\n",
              "      <td>29430</td>\n",
              "      <td>29430</td>\n",
              "      <td>15</td>\n",
              "      <td>29430</td>\n",
              "      <td>29430</td>\n",
              "      <td>29430</td>\n",
              "      <td>29430</td>\n",
              "      <td>29430</td>\n",
              "      <td>29430</td>\n",
              "      <td>29430</td>\n",
              "      <td>29430</td>\n",
              "      <td>29430</td>\n",
              "      <td>15</td>\n",
              "      <td>29430</td>\n",
              "      <td>29430</td>\n",
              "    </tr>\n",
              "    <tr>\n",
              "      <th>ABOISSO COMOE</th>\n",
              "      <td>3928</td>\n",
              "      <td>3928</td>\n",
              "      <td>3928</td>\n",
              "      <td>3928</td>\n",
              "      <td>3928</td>\n",
              "      <td>3928</td>\n",
              "      <td>6</td>\n",
              "      <td>3928</td>\n",
              "      <td>3928</td>\n",
              "      <td>3928</td>\n",
              "      <td>3928</td>\n",
              "      <td>3928</td>\n",
              "      <td>3928</td>\n",
              "      <td>3928</td>\n",
              "      <td>3928</td>\n",
              "      <td>3928</td>\n",
              "      <td>6</td>\n",
              "      <td>3928</td>\n",
              "      <td>3928</td>\n",
              "    </tr>\n",
              "    <tr>\n",
              "      <th>ABONGOUA</th>\n",
              "      <td>3923</td>\n",
              "      <td>3923</td>\n",
              "      <td>3923</td>\n",
              "      <td>3923</td>\n",
              "      <td>3923</td>\n",
              "      <td>3923</td>\n",
              "      <td>1</td>\n",
              "      <td>3923</td>\n",
              "      <td>3923</td>\n",
              "      <td>3923</td>\n",
              "      <td>3923</td>\n",
              "      <td>3923</td>\n",
              "      <td>3923</td>\n",
              "      <td>3923</td>\n",
              "      <td>3923</td>\n",
              "      <td>3923</td>\n",
              "      <td>1</td>\n",
              "      <td>3923</td>\n",
              "      <td>3923</td>\n",
              "    </tr>\n",
              "    <tr>\n",
              "      <th>...</th>\n",
              "      <td>...</td>\n",
              "      <td>...</td>\n",
              "      <td>...</td>\n",
              "      <td>...</td>\n",
              "      <td>...</td>\n",
              "      <td>...</td>\n",
              "      <td>...</td>\n",
              "      <td>...</td>\n",
              "      <td>...</td>\n",
              "      <td>...</td>\n",
              "      <td>...</td>\n",
              "      <td>...</td>\n",
              "      <td>...</td>\n",
              "      <td>...</td>\n",
              "      <td>...</td>\n",
              "      <td>...</td>\n",
              "      <td>...</td>\n",
              "      <td>...</td>\n",
              "      <td>...</td>\n",
              "    </tr>\n",
              "    <tr>\n",
              "      <th>ZATTA</th>\n",
              "      <td>3923</td>\n",
              "      <td>3923</td>\n",
              "      <td>3923</td>\n",
              "      <td>3923</td>\n",
              "      <td>3923</td>\n",
              "      <td>3923</td>\n",
              "      <td>1</td>\n",
              "      <td>3923</td>\n",
              "      <td>3923</td>\n",
              "      <td>3923</td>\n",
              "      <td>3923</td>\n",
              "      <td>3923</td>\n",
              "      <td>3923</td>\n",
              "      <td>3923</td>\n",
              "      <td>3923</td>\n",
              "      <td>3923</td>\n",
              "      <td>1</td>\n",
              "      <td>3923</td>\n",
              "      <td>3923</td>\n",
              "    </tr>\n",
              "    <tr>\n",
              "      <th>ZIKISSO</th>\n",
              "      <td>5892</td>\n",
              "      <td>5892</td>\n",
              "      <td>5892</td>\n",
              "      <td>5892</td>\n",
              "      <td>5892</td>\n",
              "      <td>5892</td>\n",
              "      <td>9</td>\n",
              "      <td>5892</td>\n",
              "      <td>5892</td>\n",
              "      <td>5892</td>\n",
              "      <td>5892</td>\n",
              "      <td>5892</td>\n",
              "      <td>5892</td>\n",
              "      <td>5892</td>\n",
              "      <td>5892</td>\n",
              "      <td>5892</td>\n",
              "      <td>9</td>\n",
              "      <td>5892</td>\n",
              "      <td>5892</td>\n",
              "    </tr>\n",
              "    <tr>\n",
              "      <th>ZON-HOUNIEN</th>\n",
              "      <td>3925</td>\n",
              "      <td>3925</td>\n",
              "      <td>3925</td>\n",
              "      <td>3925</td>\n",
              "      <td>3925</td>\n",
              "      <td>3925</td>\n",
              "      <td>3</td>\n",
              "      <td>3925</td>\n",
              "      <td>3925</td>\n",
              "      <td>3925</td>\n",
              "      <td>3925</td>\n",
              "      <td>3925</td>\n",
              "      <td>3925</td>\n",
              "      <td>3925</td>\n",
              "      <td>3925</td>\n",
              "      <td>3925</td>\n",
              "      <td>3</td>\n",
              "      <td>3925</td>\n",
              "      <td>3925</td>\n",
              "    </tr>\n",
              "    <tr>\n",
              "      <th>ZOUKOUGBEU</th>\n",
              "      <td>3926</td>\n",
              "      <td>3926</td>\n",
              "      <td>3926</td>\n",
              "      <td>3926</td>\n",
              "      <td>3926</td>\n",
              "      <td>3926</td>\n",
              "      <td>4</td>\n",
              "      <td>3926</td>\n",
              "      <td>3926</td>\n",
              "      <td>3926</td>\n",
              "      <td>3926</td>\n",
              "      <td>3926</td>\n",
              "      <td>3926</td>\n",
              "      <td>3926</td>\n",
              "      <td>3926</td>\n",
              "      <td>3926</td>\n",
              "      <td>4</td>\n",
              "      <td>3926</td>\n",
              "      <td>3926</td>\n",
              "    </tr>\n",
              "    <tr>\n",
              "      <th>ZUENOULA</th>\n",
              "      <td>11808</td>\n",
              "      <td>11808</td>\n",
              "      <td>11808</td>\n",
              "      <td>11808</td>\n",
              "      <td>11808</td>\n",
              "      <td>11808</td>\n",
              "      <td>42</td>\n",
              "      <td>11808</td>\n",
              "      <td>11808</td>\n",
              "      <td>11808</td>\n",
              "      <td>11808</td>\n",
              "      <td>11808</td>\n",
              "      <td>11808</td>\n",
              "      <td>11808</td>\n",
              "      <td>11808</td>\n",
              "      <td>11808</td>\n",
              "      <td>42</td>\n",
              "      <td>11808</td>\n",
              "      <td>11808</td>\n",
              "    </tr>\n",
              "  </tbody>\n",
              "</table>\n",
              "<p>503 rows × 19 columns</p>\n",
              "</div>"
            ],
            "text/plain": [
              "               PRODUCT   VALUE  DATE_TIME  ...  SITE_CODE    DATE    TIME\n",
              "VILLES                                     ...                           \n",
              "ABENGOUROU       31413   31413      31413  ...         37   31413   31413\n",
              "ABOBO           401163  401163     401163  ...       1119  401163  401163\n",
              "ABOISSO          29430   29430      29430  ...         15   29430   29430\n",
              "ABOISSO COMOE     3928    3928       3928  ...          6    3928    3928\n",
              "ABONGOUA          3923    3923       3923  ...          1    3923    3923\n",
              "...                ...     ...        ...  ...        ...     ...     ...\n",
              "ZATTA             3923    3923       3923  ...          1    3923    3923\n",
              "ZIKISSO           5892    5892       5892  ...          9    5892    5892\n",
              "ZON-HOUNIEN       3925    3925       3925  ...          3    3925    3925\n",
              "ZOUKOUGBEU        3926    3926       3926  ...          4    3926    3926\n",
              "ZUENOULA         11808   11808      11808  ...         42   11808   11808\n",
              "\n",
              "[503 rows x 19 columns]"
            ]
          },
          "metadata": {
            "tags": []
          },
          "execution_count": 546
        }
      ]
    },
    {
      "cell_type": "code",
      "metadata": {
        "id": "zDf5TUHUYpQ3",
        "colab_type": "code",
        "colab": {}
      },
      "source": [
        "tel_geo['VILLES'] = tel_geo.groupby('')['Name'].transform('count')"
      ],
      "execution_count": null,
      "outputs": []
    }
  ]
}